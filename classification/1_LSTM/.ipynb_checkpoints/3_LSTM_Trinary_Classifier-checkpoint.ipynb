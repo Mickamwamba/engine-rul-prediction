{
 "cells": [
  {
   "cell_type": "markdown",
   "id": "e6f45b54",
   "metadata": {},
   "source": [
    "## Step 2: LSTM_Trinary_Classifier"
   ]
  },
  {
   "cell_type": "markdown",
   "id": "87795be4",
   "metadata": {},
   "source": [
    "Using the training and test data sets we constructed in the 1_data_ingestion_and_preparation.ipynb Jupyter notebook, this notebook builds a LSTM network for scenerio described at Predictive Maintenance Template to predict failure in aircraft engines."
   ]
  },
  {
   "cell_type": "code",
   "execution_count": 1,
   "id": "7f093b57",
   "metadata": {},
   "outputs": [
    {
     "name": "stderr",
     "output_type": "stream",
     "text": [
      "2023-10-17 23:14:21.869213: I tensorflow/core/platform/cpu_feature_guard.cc:182] This TensorFlow binary is optimized to use available CPU instructions in performance-critical operations.\n",
      "To enable the following instructions: AVX2 FMA, in other operations, rebuild TensorFlow with the appropriate compiler flags.\n"
     ]
    }
   ],
   "source": [
    "import keras\n",
    "\n",
    "# import the libraries\n",
    "import h5py\n",
    "import os\n",
    "import pandas as pd\n",
    "import numpy as np\n",
    "import matplotlib.pyplot as plt\n",
    "\n",
    "import urllib\n",
    "import glob\n",
    "import pickle\n",
    "import re\n",
    "\n",
    "from sklearn.metrics import confusion_matrix, recall_score, precision_score\n",
    "from keras.models import Sequential\n",
    "from sklearn import datasets\n",
    "from keras.layers import Dense, Dropout, LSTM, Activation"
   ]
  },
  {
   "cell_type": "markdown",
   "id": "747eba66",
   "metadata": {},
   "source": [
    "## Load feature data set"
   ]
  },
  {
   "cell_type": "markdown",
   "id": "2c2e5329",
   "metadata": {},
   "source": [
    "We have previously created the labeled data set in the 1_Data Ingestion and Preparation.ipynb Jupyter notebook and stored it in local persistant storage. We define the storage locations for both the notebook input and output here.\n"
   ]
  },
  {
   "cell_type": "code",
   "execution_count": 2,
   "id": "a07d9efb",
   "metadata": {},
   "outputs": [
    {
     "data": {
      "text/html": [
       "<div>\n",
       "<style scoped>\n",
       "    .dataframe tbody tr th:only-of-type {\n",
       "        vertical-align: middle;\n",
       "    }\n",
       "\n",
       "    .dataframe tbody tr th {\n",
       "        vertical-align: top;\n",
       "    }\n",
       "\n",
       "    .dataframe thead th {\n",
       "        text-align: right;\n",
       "    }\n",
       "</style>\n",
       "<table border=\"1\" class=\"dataframe\">\n",
       "  <thead>\n",
       "    <tr style=\"text-align: right;\">\n",
       "      <th></th>\n",
       "      <th>id</th>\n",
       "      <th>cycle</th>\n",
       "      <th>setting1</th>\n",
       "      <th>setting2</th>\n",
       "      <th>setting3</th>\n",
       "      <th>s1</th>\n",
       "      <th>s2</th>\n",
       "      <th>s3</th>\n",
       "      <th>s4</th>\n",
       "      <th>s5</th>\n",
       "      <th>...</th>\n",
       "      <th>s16</th>\n",
       "      <th>s17</th>\n",
       "      <th>s18</th>\n",
       "      <th>s19</th>\n",
       "      <th>s20</th>\n",
       "      <th>s21</th>\n",
       "      <th>RUL</th>\n",
       "      <th>label1</th>\n",
       "      <th>label2</th>\n",
       "      <th>cycle_norm</th>\n",
       "    </tr>\n",
       "  </thead>\n",
       "  <tbody>\n",
       "    <tr>\n",
       "      <th>0</th>\n",
       "      <td>1</td>\n",
       "      <td>1</td>\n",
       "      <td>0.459770</td>\n",
       "      <td>0.166667</td>\n",
       "      <td>0.0</td>\n",
       "      <td>0.0</td>\n",
       "      <td>0.183735</td>\n",
       "      <td>0.406802</td>\n",
       "      <td>0.309757</td>\n",
       "      <td>0.0</td>\n",
       "      <td>...</td>\n",
       "      <td>0.0</td>\n",
       "      <td>0.333333</td>\n",
       "      <td>0.0</td>\n",
       "      <td>0.0</td>\n",
       "      <td>0.713178</td>\n",
       "      <td>0.724662</td>\n",
       "      <td>191</td>\n",
       "      <td>0</td>\n",
       "      <td>0</td>\n",
       "      <td>0.00000</td>\n",
       "    </tr>\n",
       "    <tr>\n",
       "      <th>1</th>\n",
       "      <td>1</td>\n",
       "      <td>2</td>\n",
       "      <td>0.609195</td>\n",
       "      <td>0.250000</td>\n",
       "      <td>0.0</td>\n",
       "      <td>0.0</td>\n",
       "      <td>0.283133</td>\n",
       "      <td>0.453019</td>\n",
       "      <td>0.352633</td>\n",
       "      <td>0.0</td>\n",
       "      <td>...</td>\n",
       "      <td>0.0</td>\n",
       "      <td>0.333333</td>\n",
       "      <td>0.0</td>\n",
       "      <td>0.0</td>\n",
       "      <td>0.666667</td>\n",
       "      <td>0.731014</td>\n",
       "      <td>190</td>\n",
       "      <td>0</td>\n",
       "      <td>0</td>\n",
       "      <td>0.00277</td>\n",
       "    </tr>\n",
       "    <tr>\n",
       "      <th>2</th>\n",
       "      <td>1</td>\n",
       "      <td>3</td>\n",
       "      <td>0.252874</td>\n",
       "      <td>0.750000</td>\n",
       "      <td>0.0</td>\n",
       "      <td>0.0</td>\n",
       "      <td>0.343373</td>\n",
       "      <td>0.369523</td>\n",
       "      <td>0.370527</td>\n",
       "      <td>0.0</td>\n",
       "      <td>...</td>\n",
       "      <td>0.0</td>\n",
       "      <td>0.166667</td>\n",
       "      <td>0.0</td>\n",
       "      <td>0.0</td>\n",
       "      <td>0.627907</td>\n",
       "      <td>0.621375</td>\n",
       "      <td>189</td>\n",
       "      <td>0</td>\n",
       "      <td>0</td>\n",
       "      <td>0.00554</td>\n",
       "    </tr>\n",
       "    <tr>\n",
       "      <th>3</th>\n",
       "      <td>1</td>\n",
       "      <td>4</td>\n",
       "      <td>0.540230</td>\n",
       "      <td>0.500000</td>\n",
       "      <td>0.0</td>\n",
       "      <td>0.0</td>\n",
       "      <td>0.343373</td>\n",
       "      <td>0.256159</td>\n",
       "      <td>0.331195</td>\n",
       "      <td>0.0</td>\n",
       "      <td>...</td>\n",
       "      <td>0.0</td>\n",
       "      <td>0.333333</td>\n",
       "      <td>0.0</td>\n",
       "      <td>0.0</td>\n",
       "      <td>0.573643</td>\n",
       "      <td>0.662386</td>\n",
       "      <td>188</td>\n",
       "      <td>0</td>\n",
       "      <td>0</td>\n",
       "      <td>0.00831</td>\n",
       "    </tr>\n",
       "    <tr>\n",
       "      <th>4</th>\n",
       "      <td>1</td>\n",
       "      <td>5</td>\n",
       "      <td>0.390805</td>\n",
       "      <td>0.333333</td>\n",
       "      <td>0.0</td>\n",
       "      <td>0.0</td>\n",
       "      <td>0.349398</td>\n",
       "      <td>0.257467</td>\n",
       "      <td>0.404625</td>\n",
       "      <td>0.0</td>\n",
       "      <td>...</td>\n",
       "      <td>0.0</td>\n",
       "      <td>0.416667</td>\n",
       "      <td>0.0</td>\n",
       "      <td>0.0</td>\n",
       "      <td>0.589147</td>\n",
       "      <td>0.704502</td>\n",
       "      <td>187</td>\n",
       "      <td>0</td>\n",
       "      <td>0</td>\n",
       "      <td>0.01108</td>\n",
       "    </tr>\n",
       "  </tbody>\n",
       "</table>\n",
       "<p>5 rows × 30 columns</p>\n",
       "</div>"
      ],
      "text/plain": [
       "   id  cycle  setting1  setting2  setting3   s1        s2        s3        s4  \\\n",
       "0   1      1  0.459770  0.166667       0.0  0.0  0.183735  0.406802  0.309757   \n",
       "1   1      2  0.609195  0.250000       0.0  0.0  0.283133  0.453019  0.352633   \n",
       "2   1      3  0.252874  0.750000       0.0  0.0  0.343373  0.369523  0.370527   \n",
       "3   1      4  0.540230  0.500000       0.0  0.0  0.343373  0.256159  0.331195   \n",
       "4   1      5  0.390805  0.333333       0.0  0.0  0.349398  0.257467  0.404625   \n",
       "\n",
       "    s5  ...  s16       s17  s18  s19       s20       s21  RUL  label1  label2  \\\n",
       "0  0.0  ...  0.0  0.333333  0.0  0.0  0.713178  0.724662  191       0       0   \n",
       "1  0.0  ...  0.0  0.333333  0.0  0.0  0.666667  0.731014  190       0       0   \n",
       "2  0.0  ...  0.0  0.166667  0.0  0.0  0.627907  0.621375  189       0       0   \n",
       "3  0.0  ...  0.0  0.333333  0.0  0.0  0.573643  0.662386  188       0       0   \n",
       "4  0.0  ...  0.0  0.416667  0.0  0.0  0.589147  0.704502  187       0       0   \n",
       "\n",
       "   cycle_norm  \n",
       "0     0.00000  \n",
       "1     0.00277  \n",
       "2     0.00554  \n",
       "3     0.00831  \n",
       "4     0.01108  \n",
       "\n",
       "[5 rows x 30 columns]"
      ]
     },
     "execution_count": 2,
     "metadata": {},
     "output_type": "execute_result"
    }
   ],
   "source": [
    "CWD = os.getcwd()\n",
    "train_df = pd.read_csv(os.path.join(CWD,\"train_data.csv\"))\n",
    "train_df.head()"
   ]
  },
  {
   "cell_type": "code",
   "execution_count": 3,
   "id": "41624c63",
   "metadata": {},
   "outputs": [
    {
     "data": {
      "text/html": [
       "<div>\n",
       "<style scoped>\n",
       "    .dataframe tbody tr th:only-of-type {\n",
       "        vertical-align: middle;\n",
       "    }\n",
       "\n",
       "    .dataframe tbody tr th {\n",
       "        vertical-align: top;\n",
       "    }\n",
       "\n",
       "    .dataframe thead th {\n",
       "        text-align: right;\n",
       "    }\n",
       "</style>\n",
       "<table border=\"1\" class=\"dataframe\">\n",
       "  <thead>\n",
       "    <tr style=\"text-align: right;\">\n",
       "      <th></th>\n",
       "      <th>id</th>\n",
       "      <th>cycle</th>\n",
       "      <th>setting1</th>\n",
       "      <th>setting2</th>\n",
       "      <th>setting3</th>\n",
       "      <th>s1</th>\n",
       "      <th>s2</th>\n",
       "      <th>s3</th>\n",
       "      <th>s4</th>\n",
       "      <th>s5</th>\n",
       "      <th>...</th>\n",
       "      <th>s16</th>\n",
       "      <th>s17</th>\n",
       "      <th>s18</th>\n",
       "      <th>s19</th>\n",
       "      <th>s20</th>\n",
       "      <th>s21</th>\n",
       "      <th>cycle_norm</th>\n",
       "      <th>RUL</th>\n",
       "      <th>label1</th>\n",
       "      <th>label2</th>\n",
       "    </tr>\n",
       "  </thead>\n",
       "  <tbody>\n",
       "    <tr>\n",
       "      <th>0</th>\n",
       "      <td>1</td>\n",
       "      <td>1</td>\n",
       "      <td>0.632184</td>\n",
       "      <td>0.750000</td>\n",
       "      <td>0.0</td>\n",
       "      <td>0.0</td>\n",
       "      <td>0.545181</td>\n",
       "      <td>0.310661</td>\n",
       "      <td>0.269413</td>\n",
       "      <td>0.0</td>\n",
       "      <td>...</td>\n",
       "      <td>0.0</td>\n",
       "      <td>0.333333</td>\n",
       "      <td>0.0</td>\n",
       "      <td>0.0</td>\n",
       "      <td>0.558140</td>\n",
       "      <td>0.661834</td>\n",
       "      <td>0.00000</td>\n",
       "      <td>142</td>\n",
       "      <td>0</td>\n",
       "      <td>0</td>\n",
       "    </tr>\n",
       "    <tr>\n",
       "      <th>1</th>\n",
       "      <td>1</td>\n",
       "      <td>2</td>\n",
       "      <td>0.344828</td>\n",
       "      <td>0.250000</td>\n",
       "      <td>0.0</td>\n",
       "      <td>0.0</td>\n",
       "      <td>0.150602</td>\n",
       "      <td>0.379551</td>\n",
       "      <td>0.222316</td>\n",
       "      <td>0.0</td>\n",
       "      <td>...</td>\n",
       "      <td>0.0</td>\n",
       "      <td>0.416667</td>\n",
       "      <td>0.0</td>\n",
       "      <td>0.0</td>\n",
       "      <td>0.682171</td>\n",
       "      <td>0.686827</td>\n",
       "      <td>0.00277</td>\n",
       "      <td>141</td>\n",
       "      <td>0</td>\n",
       "      <td>0</td>\n",
       "    </tr>\n",
       "    <tr>\n",
       "      <th>2</th>\n",
       "      <td>1</td>\n",
       "      <td>3</td>\n",
       "      <td>0.517241</td>\n",
       "      <td>0.583333</td>\n",
       "      <td>0.0</td>\n",
       "      <td>0.0</td>\n",
       "      <td>0.376506</td>\n",
       "      <td>0.346632</td>\n",
       "      <td>0.322248</td>\n",
       "      <td>0.0</td>\n",
       "      <td>...</td>\n",
       "      <td>0.0</td>\n",
       "      <td>0.416667</td>\n",
       "      <td>0.0</td>\n",
       "      <td>0.0</td>\n",
       "      <td>0.728682</td>\n",
       "      <td>0.721348</td>\n",
       "      <td>0.00554</td>\n",
       "      <td>140</td>\n",
       "      <td>0</td>\n",
       "      <td>0</td>\n",
       "    </tr>\n",
       "    <tr>\n",
       "      <th>3</th>\n",
       "      <td>1</td>\n",
       "      <td>4</td>\n",
       "      <td>0.741379</td>\n",
       "      <td>0.500000</td>\n",
       "      <td>0.0</td>\n",
       "      <td>0.0</td>\n",
       "      <td>0.370482</td>\n",
       "      <td>0.285154</td>\n",
       "      <td>0.408001</td>\n",
       "      <td>0.0</td>\n",
       "      <td>...</td>\n",
       "      <td>0.0</td>\n",
       "      <td>0.250000</td>\n",
       "      <td>0.0</td>\n",
       "      <td>0.0</td>\n",
       "      <td>0.666667</td>\n",
       "      <td>0.662110</td>\n",
       "      <td>0.00831</td>\n",
       "      <td>139</td>\n",
       "      <td>0</td>\n",
       "      <td>0</td>\n",
       "    </tr>\n",
       "    <tr>\n",
       "      <th>4</th>\n",
       "      <td>1</td>\n",
       "      <td>5</td>\n",
       "      <td>0.580460</td>\n",
       "      <td>0.500000</td>\n",
       "      <td>0.0</td>\n",
       "      <td>0.0</td>\n",
       "      <td>0.391566</td>\n",
       "      <td>0.352082</td>\n",
       "      <td>0.332039</td>\n",
       "      <td>0.0</td>\n",
       "      <td>...</td>\n",
       "      <td>0.0</td>\n",
       "      <td>0.166667</td>\n",
       "      <td>0.0</td>\n",
       "      <td>0.0</td>\n",
       "      <td>0.658915</td>\n",
       "      <td>0.716377</td>\n",
       "      <td>0.01108</td>\n",
       "      <td>138</td>\n",
       "      <td>0</td>\n",
       "      <td>0</td>\n",
       "    </tr>\n",
       "  </tbody>\n",
       "</table>\n",
       "<p>5 rows × 30 columns</p>\n",
       "</div>"
      ],
      "text/plain": [
       "   id  cycle  setting1  setting2  setting3   s1        s2        s3        s4  \\\n",
       "0   1      1  0.632184  0.750000       0.0  0.0  0.545181  0.310661  0.269413   \n",
       "1   1      2  0.344828  0.250000       0.0  0.0  0.150602  0.379551  0.222316   \n",
       "2   1      3  0.517241  0.583333       0.0  0.0  0.376506  0.346632  0.322248   \n",
       "3   1      4  0.741379  0.500000       0.0  0.0  0.370482  0.285154  0.408001   \n",
       "4   1      5  0.580460  0.500000       0.0  0.0  0.391566  0.352082  0.332039   \n",
       "\n",
       "    s5  ...  s16       s17  s18  s19       s20       s21  cycle_norm  RUL  \\\n",
       "0  0.0  ...  0.0  0.333333  0.0  0.0  0.558140  0.661834     0.00000  142   \n",
       "1  0.0  ...  0.0  0.416667  0.0  0.0  0.682171  0.686827     0.00277  141   \n",
       "2  0.0  ...  0.0  0.416667  0.0  0.0  0.728682  0.721348     0.00554  140   \n",
       "3  0.0  ...  0.0  0.250000  0.0  0.0  0.666667  0.662110     0.00831  139   \n",
       "4  0.0  ...  0.0  0.166667  0.0  0.0  0.658915  0.716377     0.01108  138   \n",
       "\n",
       "   label1  label2  \n",
       "0       0       0  \n",
       "1       0       0  \n",
       "2       0       0  \n",
       "3       0       0  \n",
       "4       0       0  \n",
       "\n",
       "[5 rows x 30 columns]"
      ]
     },
     "execution_count": 3,
     "metadata": {},
     "output_type": "execute_result"
    }
   ],
   "source": [
    "test_df = pd.read_csv(os.path.join(CWD,\"test_data.csv\"))\n",
    "test_df.head()"
   ]
  },
  {
   "cell_type": "markdown",
   "id": "00263aa9",
   "metadata": {},
   "source": [
    "## Modelling\n"
   ]
  },
  {
   "cell_type": "markdown",
   "id": "fa1a53f1",
   "metadata": {},
   "source": [
    "<!-- The traditional predictive maintenance machine learning models are based on feature engineering, the manual construction of variable using domain expertise and intuition. This usually makes these models hard to reuse as the feature are specific to the problem scenario and the available data may vary between customers. Perhaps the most attractive advantage of deep learning they automatically do feature engineering from the data, eliminating the need for the manual feature engineering step.\n",
    "\n",
    "When using LSTMs in the time-series domain, one important parameter is the sequence length, the window to examine for failure signal. This may be viewed as picking a window_size (i.e. 5 cycles) for calculating the rolling features in the Predictive Maintenance Template. The rolling features included rolling mean and rolling standard deviation over the 5 cycles for each of the 21 sensor values. In deep learning, we allow the LSTMs to extract abstract features out of the sequence of sensor values within the window. The expectation is that patterns within these sensor values will be automatically encoded by the LSTM.\n",
    "\n",
    "Another critical advantage of LSTMs is their ability to remember from long-term sequences (window sizes) which is hard to achieve by traditional feature engineering. Computing rolling averages over a window size of 50 cycles may lead to loss of information due to smoothing over such a long period. LSTMs are able to use larger window sizes and use all the information in the window as input.\n",
    "\n",
    "http://colah.github.io/posts/2015-08-Understanding-LSTMs/ contains more information on the details of LSTM networks.\n",
    "\n",
    "This notebook illustrates the LSTM approach to binary classification using a sequence_length of 50 cycles to predict the probability of engine failure within 30 days. -->"
   ]
  },
  {
   "cell_type": "code",
   "execution_count": 4,
   "id": "4a8e2a9e",
   "metadata": {},
   "outputs": [],
   "source": [
    "# pick a large window size of 50 cycles\n",
    "sequence_length = 50"
   ]
  },
  {
   "cell_type": "markdown",
   "id": "47ece356",
   "metadata": {},
   "source": [
    "We use the Keras LSTM with Tensorflow as a backend. Here layers expect an input in the shape of an array of 3 dimensions (samples, time steps, features) where samples is the number of training sequences, time steps is the look back window or sequence length and features is the number of features of each sequence at each time step.\n",
    "\n",
    "We define a function to generate this array, as we'll use it repeatedly."
   ]
  },
  {
   "cell_type": "code",
   "execution_count": 5,
   "id": "ffff30c9",
   "metadata": {},
   "outputs": [],
   "source": [
    "# function to reshape features into (samples, time steps, features) \n",
    "def gen_sequence(id_df, seq_length, seq_cols):\n",
    "    \"\"\" Only sequences that meet the window-length are considered, no padding is used. This means for testing\n",
    "    we need to drop those which are below the window-length. An alternative would be to pad sequences so that\n",
    "    we can use shorter ones \"\"\"\n",
    "    data_array = id_df[seq_cols].values\n",
    "    num_elements = data_array.shape[0]\n",
    "    for start, stop in zip(range(0, num_elements-seq_length), range(seq_length, num_elements)):\n",
    "        yield data_array[start:stop, :]"
   ]
  },
  {
   "cell_type": "markdown",
   "id": "abe58849",
   "metadata": {},
   "source": [
    "The sequences are built from the features (sensor and settings) values across the time steps (cycles) within each engine."
   ]
  },
  {
   "cell_type": "code",
   "execution_count": 6,
   "id": "9bfb7b75",
   "metadata": {},
   "outputs": [
    {
     "name": "stdout",
     "output_type": "stream",
     "text": [
      "['setting1', 'setting2', 'setting3', 'cycle_norm', 's1', 's2', 's3', 's4', 's5', 's6', 's7', 's8', 's9', 's10', 's11', 's12', 's13', 's14', 's15', 's16', 's17', 's18', 's19', 's20', 's21']\n"
     ]
    }
   ],
   "source": [
    "# pick the feature columns \n",
    "sequence_cols = ['setting1', 'setting2', 'setting3', 'cycle_norm']\n",
    "key_cols = ['id', 'cycle']\n",
    "label_cols = ['label1', 'label2', 'RUL']\n",
    "\n",
    "input_features = test_df.columns.values.tolist()\n",
    "sensor_cols = [x for x in input_features if x not in set(key_cols)]\n",
    "sensor_cols = [x for x in sensor_cols if x not in set(label_cols)]\n",
    "sensor_cols = [x for x in sensor_cols if x not in set(sequence_cols)]\n",
    "\n",
    "# The time is sequenced along\n",
    "# This may be a silly way to get these column names, but it's relatively clear\n",
    "sequence_cols.extend(sensor_cols)\n",
    "\n",
    "print(sequence_cols)"
   ]
  },
  {
   "cell_type": "code",
   "execution_count": 7,
   "id": "c44fd07e",
   "metadata": {},
   "outputs": [
    {
     "data": {
      "text/plain": [
       "(15631, 50, 25)"
      ]
     },
     "execution_count": 7,
     "metadata": {},
     "output_type": "execute_result"
    }
   ],
   "source": [
    "# generator for the sequences\n",
    "seq_gen = (list(gen_sequence(train_df[train_df['id']==id], sequence_length, sequence_cols)) \n",
    "           for id in train_df['id'].unique())\n",
    "\n",
    "# generate sequences and convert to numpy array\n",
    "seq_array = np.concatenate(list(seq_gen)).astype(np.float32)\n",
    "seq_array.shape"
   ]
  },
  {
   "cell_type": "markdown",
   "id": "e6655e10",
   "metadata": {},
   "source": [
    "\n",
    "\n",
    "\n",
    "We also create a function to label these sequences."
   ]
  },
  {
   "cell_type": "code",
   "execution_count": 8,
   "id": "24391971",
   "metadata": {},
   "outputs": [],
   "source": [
    "# function to generate labels\n",
    "def gen_labels(id_df, seq_length, label):\n",
    "    data_array = id_df[label].values\n",
    "    num_elements = data_array.shape[0]\n",
    "    return data_array[seq_length:num_elements, :]"
   ]
  },
  {
   "cell_type": "markdown",
   "id": "cd15b744",
   "metadata": {},
   "source": [
    "We will only be using the LSTM to predict failure within the next 30 days (label1). To predict other labels, we could change this call before building the LSTM network."
   ]
  },
  {
   "cell_type": "code",
   "execution_count": 9,
   "id": "a7470486",
   "metadata": {},
   "outputs": [
    {
     "data": {
      "text/plain": [
       "(15631, 1)"
      ]
     },
     "execution_count": 9,
     "metadata": {},
     "output_type": "execute_result"
    }
   ],
   "source": [
    "# generate labels\n",
    "label_gen = [gen_labels(train_df[train_df['id']==id], sequence_length, ['label2']) \n",
    "             for id in train_df['id'].unique()]\n",
    "label_array = np.concatenate(label_gen).astype(np.float32)\n",
    "label_array.shape"
   ]
  },
  {
   "cell_type": "markdown",
   "id": "67c44d8d",
   "metadata": {},
   "source": [
    "\n",
    "\n",
    "\n",
    "\n",
    "\n",
    "## LSTM Network\n"
   ]
  },
  {
   "cell_type": "markdown",
   "id": "69beddcf",
   "metadata": {},
   "source": [
    "Building a Neural Net requires determining the network architecture. In this scenario we will build a network of only 2 layers, with dropout. The first LSTM layer with 100 units, one for each input sequence, followed by another LSTM layer with 50 units. We will also apply dropout each LSTM layer to control overfitting. The final dense output layer employs a sigmoid activation corresponding to the binary classification requirement."
   ]
  },
  {
   "cell_type": "code",
   "execution_count": 10,
   "id": "fb2cc7e8",
   "metadata": {},
   "outputs": [
    {
     "data": {
      "text/plain": [
       "(50, 25)"
      ]
     },
     "execution_count": 10,
     "metadata": {},
     "output_type": "execute_result"
    }
   ],
   "source": [
    "nb_features = seq_array.shape[2]\n",
    "nb_out = label_array.shape[1]\n",
    "input_shape=(sequence_length, nb_features)\n",
    "input_shape\n"
   ]
  },
  {
   "cell_type": "code",
   "execution_count": 10,
   "id": "29908cdc",
   "metadata": {},
   "outputs": [],
   "source": [
    "from keras.utils import to_categorical\n",
    "# Assuming your original target values are in a variable named 'y'\n",
    "label_array = to_categorical(label_array, num_classes=3)  #"
   ]
  },
  {
   "cell_type": "code",
   "execution_count": null,
   "id": "2496794f",
   "metadata": {},
   "outputs": [],
   "source": []
  },
  {
   "cell_type": "code",
   "execution_count": 36,
   "id": "f6bdcaee",
   "metadata": {},
   "outputs": [
    {
     "name": "stdout",
     "output_type": "stream",
     "text": [
      "Model: \"sequential_6\"\n",
      "_________________________________________________________________\n",
      " Layer (type)                Output Shape              Param #   \n",
      "=================================================================\n",
      " lstm_12 (LSTM)              (None, 50, 100)           50400     \n",
      "                                                                 \n",
      " dropout_12 (Dropout)        (None, 50, 100)           0         \n",
      "                                                                 \n",
      " lstm_13 (LSTM)              (None, 50)                30200     \n",
      "                                                                 \n",
      " dropout_13 (Dropout)        (None, 50)                0         \n",
      "                                                                 \n",
      " dense_6 (Dense)             (None, 3)                 153       \n",
      "                                                                 \n",
      "=================================================================\n",
      "Total params: 80753 (315.44 KB)\n",
      "Trainable params: 80753 (315.44 KB)\n",
      "Non-trainable params: 0 (0.00 Byte)\n",
      "_________________________________________________________________\n",
      "None\n"
     ]
    }
   ],
   "source": [
    "# build the network\n",
    "# Feature weights\n",
    "nb_features = seq_array.shape[2]\n",
    "nb_out = label_array.shape[1]\n",
    "\n",
    "# LSTM model\n",
    "model = Sequential()\n",
    "\n",
    "# The first layer\n",
    "model.add(LSTM(\n",
    "         input_shape=(sequence_length, nb_features),\n",
    "         units=100,\n",
    "         return_sequences=True))\n",
    "\n",
    "# Plus a 20% dropout rate\n",
    "model.add(Dropout(0.2))\n",
    "\n",
    "# The second layer\n",
    "model.add(LSTM(\n",
    "          units=50,\n",
    "          return_sequences=False))\n",
    "\n",
    "# Plus a 20% dropout rate\n",
    "model.add(Dropout(0.2))\n",
    "\n",
    "# Dense sigmoid layer\n",
    "model.add(Dense(units=3, activation='softmax'))\n",
    "\n",
    "# With adam optimizer and a binary crossentropy loss. We will opimize for model accuracy.\n",
    "model.compile(loss='categorical_crossentropy', optimizer='adam', metrics=['accuracy'])\n",
    "\n",
    "# Verify the architecture \n",
    "print(model.summary())"
   ]
  },
  {
   "cell_type": "markdown",
   "id": "077c0470",
   "metadata": {},
   "source": [
    "It takes about 15 seconds per epoch to build this model on a DS4_V2 standard Data Science Virtual Machine for Linux (Ubuntu) using only CPU compute."
   ]
  },
  {
   "cell_type": "code",
   "execution_count": 37,
   "id": "474b005a",
   "metadata": {},
   "outputs": [
    {
     "name": "stdout",
     "output_type": "stream",
     "text": [
      "Epoch 1/50\n",
      "71/71 [==============================] - 37s 345ms/step - loss: 0.3998 - accuracy: 0.8486 - val_loss: 0.1995 - val_accuracy: 0.9137\n",
      "Epoch 2/50\n",
      "71/71 [==============================] - 25s 347ms/step - loss: 0.1676 - accuracy: 0.9313 - val_loss: 0.1142 - val_accuracy: 0.9476\n",
      "Epoch 3/50\n",
      "71/71 [==============================] - 23s 327ms/step - loss: 0.1277 - accuracy: 0.9467 - val_loss: 0.0941 - val_accuracy: 0.9642\n",
      "Epoch 4/50\n",
      "71/71 [==============================] - 24s 342ms/step - loss: 0.1091 - accuracy: 0.9546 - val_loss: 0.0935 - val_accuracy: 0.9597\n",
      "Epoch 5/50\n",
      "71/71 [==============================] - 27s 374ms/step - loss: 0.1087 - accuracy: 0.9553 - val_loss: 0.1431 - val_accuracy: 0.9373\n",
      "Epoch 6/50\n",
      "71/71 [==============================] - 33s 464ms/step - loss: 0.1158 - accuracy: 0.9511 - val_loss: 0.0967 - val_accuracy: 0.9642\n",
      "Epoch 7/50\n",
      "71/71 [==============================] - 53s 749ms/step - loss: 0.0912 - accuracy: 0.9613 - val_loss: 0.0789 - val_accuracy: 0.9693\n",
      "Epoch 8/50\n",
      "71/71 [==============================] - 46s 646ms/step - loss: 0.0939 - accuracy: 0.9603 - val_loss: 0.0919 - val_accuracy: 0.9629\n",
      "Epoch 9/50\n",
      "71/71 [==============================] - 56s 797ms/step - loss: 0.1027 - accuracy: 0.9571 - val_loss: 0.1647 - val_accuracy: 0.9246\n",
      "Epoch 10/50\n",
      "71/71 [==============================] - 50s 706ms/step - loss: 0.0960 - accuracy: 0.9602 - val_loss: 0.0893 - val_accuracy: 0.9616\n",
      "Epoch 11/50\n",
      "71/71 [==============================] - 47s 657ms/step - loss: 0.0872 - accuracy: 0.9625 - val_loss: 0.0943 - val_accuracy: 0.9616\n",
      "Epoch 12/50\n",
      "71/71 [==============================] - 50s 706ms/step - loss: 0.0834 - accuracy: 0.9645 - val_loss: 0.0773 - val_accuracy: 0.9674\n",
      "Epoch 13/50\n",
      "71/71 [==============================] - 40s 563ms/step - loss: 0.0765 - accuracy: 0.9678 - val_loss: 0.0863 - val_accuracy: 0.9610\n",
      "Epoch 14/50\n",
      "71/71 [==============================] - 34s 478ms/step - loss: 0.0810 - accuracy: 0.9657 - val_loss: 0.0956 - val_accuracy: 0.9584\n",
      "Epoch 15/50\n",
      "71/71 [==============================] - 32s 453ms/step - loss: 0.0812 - accuracy: 0.9659 - val_loss: 0.0809 - val_accuracy: 0.9623\n",
      "Epoch 16/50\n",
      "71/71 [==============================] - 36s 511ms/step - loss: 0.0779 - accuracy: 0.9667 - val_loss: 0.1151 - val_accuracy: 0.9482\n",
      "Epoch 17/50\n",
      "71/71 [==============================] - 40s 562ms/step - loss: 0.0785 - accuracy: 0.9664 - val_loss: 0.1004 - val_accuracy: 0.9501\n"
     ]
    }
   ],
   "source": [
    "# fit the network\n",
    "history = model.fit(seq_array, # Training features\n",
    "          label_array, # Training labels\n",
    "          epochs=50,   # We'll stop after 10 epochs\n",
    "          batch_size=200, # \n",
    "          validation_split=0.10, # Use 10% of data to evaluate the loss. (val_loss)\n",
    "          verbose=1, #\n",
    "          callbacks = [keras.callbacks.EarlyStopping(monitor='val_loss', # Monitor the validation loss\n",
    "                                                     min_delta=0,    # until it doesn't change (or gets worse)\n",
    "                                                     patience=5,  # patience > 1 so it continutes if it is not consistently improving\n",
    "                                                     verbose=0, \n",
    "                                                     mode='auto')]) "
   ]
  },
  {
   "cell_type": "code",
   "execution_count": null,
   "id": "20aeb791",
   "metadata": {},
   "outputs": [],
   "source": []
  },
  {
   "cell_type": "code",
   "execution_count": 38,
   "id": "f41007f7",
   "metadata": {},
   "outputs": [
    {
     "data": {
      "image/png": "[encoded data removed]",
      "text/plain": [
       "<Figure size 800x500 with 1 Axes>"
      ]
     },
     "metadata": {},
     "output_type": "display_data"
    }
   ],
   "source": [
    "pd.DataFrame(history.history).plot(figsize=(8, 5))\n",
    "plt.grid(True)\n",
    "# plt.gca().set_ylim(0, 1) # set the vertical range to [0-1]\n",
    "plt.show()"
   ]
  },
  {
   "cell_type": "markdown",
   "id": "29ca4654",
   "metadata": {},
   "source": [
    "We optimized the network weights on the training set accuracy, which we examine here."
   ]
  },
  {
   "cell_type": "code",
   "execution_count": 39,
   "id": "db4d32b7",
   "metadata": {},
   "outputs": [
    {
     "name": "stdout",
     "output_type": "stream",
     "text": [
      "79/79 [==============================] - 9s 110ms/step - loss: 0.0689 - accuracy: 0.9708\n",
      "Training Accurracy: 0.9708272218704224\n"
     ]
    }
   ],
   "source": [
    "# training metrics\n",
    "scores = model.evaluate(seq_array, label_array, verbose=1, batch_size=200)\n",
    "print('Training Accurracy: {}'.format(scores[1]))"
   ]
  },
  {
   "cell_type": "markdown",
   "id": "2fe7b200",
   "metadata": {},
   "source": [
    "We can examine the training set performance by looking at the model confusion matrix. Accurate predictions lie along the diagonal of the matrix, errors are on the off diagonal.\n"
   ]
  },
  {
   "cell_type": "code",
   "execution_count": 45,
   "id": "0f15aac0",
   "metadata": {
    "scrolled": true
   },
   "outputs": [
    {
     "name": "stdout",
     "output_type": "stream",
     "text": [
      "489/489 [==============================] - 16s 33ms/step\n",
      "Precision: 0.9706142956383971\n",
      "Recall: 0.970827202354296\n",
      "F1-score: 0.9706821652788354\n"
     ]
    }
   ],
   "source": [
    "from sklearn.metrics import precision_score, recall_score, f1_score\n",
    "# make predictions and compute confusion matrix\n",
    "# y_pred = model.predict(seq_array,verbose=1, batch_size=200)\n",
    "y_pred = (model.predict(seq_array) > 0.5).astype(\"int32\")\n",
    "\n",
    "y_true = label_array\n",
    "# print('Training Confusion matrix\\n- x-axis is true labels.\\n- y-axis is predicted labels')\n",
    "# cm = confusion_matrix(y_true, y_pred)\n",
    "# cm\n"
   ]
  },
  {
   "cell_type": "code",
   "execution_count": 48,
   "id": "f15e502d",
   "metadata": {},
   "outputs": [
    {
     "name": "stdout",
     "output_type": "stream",
     "text": [
      "Precision: 0.970827202354296\n",
      "Recall: 0.970827202354296\n",
      "F1-score: 0.970827202354296\n"
     ]
    }
   ],
   "source": [
    "# Assuming 'y_true' contains the true labels and 'y_pred' contains the predicted labels\n",
    "precision = precision_score(y_true, y_pred, average='micro')  # You can use other averaging strategies\n",
    "recall = recall_score(y_true, y_pred, average='micro')  # You can use other averaging strategies\n",
    "f1 = f1_score(y_true, y_pred, average='micro')  # You can use other averaging strategies\n",
    "\n",
    "print(\"Precision:\", precision)\n",
    "print(\"Recall:\", recall)\n",
    "print(\"F1-score:\", f1)"
   ]
  },
  {
   "cell_type": "code",
   "execution_count": null,
   "id": "3cffbae0",
   "metadata": {},
   "outputs": [],
   "source": []
  },
  {
   "cell_type": "markdown",
   "id": "36baa508",
   "metadata": {},
   "source": [
    "Since we have many more healthy cycles than failure cycles, we also look at precision and recall. In all cases, we assume the model threshold is at Pr=0.5\n",
    ". In order to tune this, we need to look at a test data set."
   ]
  },
  {
   "cell_type": "code",
   "execution_count": 49,
   "id": "a58484c6",
   "metadata": {},
   "outputs": [],
   "source": [
    "# # compute precision and recall\n",
    "# precision = precision_score(y_true, y_pred)\n",
    "# recall = recall_score(y_true, y_pred)\n",
    "# f1 = 2 * (precision * recall) / (precision + recall)\n",
    "# print( 'Training Precision: ', precision, '\\n', 'Training Recall: ', recall, '\\n', 'Training F1 Score:', f1)"
   ]
  },
  {
   "cell_type": "markdown",
   "id": "49015114",
   "metadata": {},
   "source": [
    "## Model testing\n"
   ]
  },
  {
   "cell_type": "markdown",
   "id": "e79cd14f",
   "metadata": {},
   "source": [
    "Next, we look at the performance on the test data. Only the last cycle data for each engine id in the test data is kept for testing purposes. In order to compare the results to the template, we pick the last sequence for each id in the test data."
   ]
  },
  {
   "cell_type": "code",
   "execution_count": 50,
   "id": "27b316a3",
   "metadata": {},
   "outputs": [
    {
     "data": {
      "text/plain": [
       "(93, 50, 25)"
      ]
     },
     "execution_count": 50,
     "metadata": {},
     "output_type": "execute_result"
    }
   ],
   "source": [
    "seq_array_test_last = [test_df[test_df['id']==id][sequence_cols].values[-sequence_length:] \n",
    "                       for id in test_df['id'].unique() if len(test_df[test_df['id']==id]) >= sequence_length]\n",
    "\n",
    "seq_array_test_last = np.asarray(seq_array_test_last).astype(np.float32)\n",
    "seq_array_test_last.shape"
   ]
  },
  {
   "cell_type": "markdown",
   "id": "fd4364f5",
   "metadata": {},
   "source": [
    "We also ned the test set labels in the correct format.\n"
   ]
  },
  {
   "cell_type": "code",
   "execution_count": 51,
   "id": "aaccc308",
   "metadata": {},
   "outputs": [
    {
     "name": "stdout",
     "output_type": "stream",
     "text": [
      "(93, 50, 25)\n",
      "(93, 3)\n"
     ]
    }
   ],
   "source": [
    "y_mask = [len(test_df[test_df['id']==id]) >= sequence_length for id in test_df['id'].unique()]\n",
    "\n",
    "label_array_test_last = test_df.groupby('id')['label2'].nth(-1)[y_mask].values\n",
    "label_array_test_last = label_array_test_last.reshape(label_array_test_last.shape[0],1).astype(np.float32)\n",
    "label_array_test_last.shape\n",
    "\n",
    "label_array_test_last = to_categorical(label_array_test_last, num_classes=3)\n",
    "print(seq_array_test_last.shape)\n",
    "print(label_array_test_last.shape)"
   ]
  },
  {
   "cell_type": "markdown",
   "id": "9b8eaf4c",
   "metadata": {},
   "source": [
    "Now we can test the model with the test data. We report the model accuracy on the test set, and compare it to the training accuracy. By definition, the training accuracy should be optimistic since the model was optimized for those observations. The test set accuracy is more general, and simulates how the model was intended to be used to predict forward in time. This is the number we should use for reporting how the model performs"
   ]
  },
  {
   "cell_type": "code",
   "execution_count": 52,
   "id": "ac088665",
   "metadata": {},
   "outputs": [
    {
     "name": "stdout",
     "output_type": "stream",
     "text": [
      "3/3 - 0s - loss: 0.0446 - accuracy: 0.9785 - 102ms/epoch - 34ms/step\n",
      "Test Accurracy: 0.9784946441650391\n"
     ]
    }
   ],
   "source": [
    "# test metrics\n",
    "scores_test = model.evaluate(seq_array_test_last, label_array_test_last, verbose=2)\n",
    "print('Test Accurracy: {}'.format(scores_test[1]))"
   ]
  },
  {
   "cell_type": "code",
   "execution_count": 54,
   "id": "fe26bc6d",
   "metadata": {},
   "outputs": [
    {
     "name": "stdout",
     "output_type": "stream",
     "text": [
      "3/3 [==============================] - 0s 30ms/step\n"
     ]
    }
   ],
   "source": [
    "# make predictions and compute confusion matrix\n",
    "y_pred_test = (model.predict(seq_array_test_last) > 0.5).astype(\"int32\")\n",
    "y_true_test = label_array_test_last\n",
    "# print('Confusion matrix\\n- x-axis is true labels.\\n- y-axis is predicted labels')\n",
    "# cm = confusion_matrix(y_true_test, y_pred_test)\n",
    "# cm"
   ]
  },
  {
   "cell_type": "markdown",
   "id": "43e697b4",
   "metadata": {},
   "source": [
    "The confusion matrix uses absolute counts, so comparing the test and training set confusion matrices is difficult. Instead, it is better to use precision and recall.\n",
    "\n",
    "Precision measures how accurate your model predicts failures. What percentage of the failure predictions are actually failures.\n",
    "Recall measures how well the model captures thos failures. What percentage of the true failures did your model capture.\n",
    "These measures are tightly coupled, and you can typically only choose to maximize one of them (by manipulating the probability threshold) and have to accept the other as is."
   ]
  },
  {
   "cell_type": "code",
   "execution_count": 56,
   "id": "b94ccc49",
   "metadata": {},
   "outputs": [
    {
     "name": "stdout",
     "output_type": "stream",
     "text": [
      "Test Precision:  0.978494623655914 \n",
      " Test Recall:  0.978494623655914 \n",
      " Test F1 Score: 0.978494623655914\n"
     ]
    }
   ],
   "source": [
    "# compute precision and recall\n",
    "precision_test = precision_score(y_true_test, y_pred_test,average='micro')\n",
    "recall_test = recall_score(y_true_test, y_pred_test,average='micro')\n",
    "f1_test = 2 * (precision_test * recall_test) / (precision_test + recall_test)\n",
    "print( 'Test Precision: ', precision_test, '\\n', 'Test Recall: ', recall_test, '\\n', 'Test F1 Score:', f1_test)\n"
   ]
  },
  {
   "cell_type": "markdown",
   "id": "72f465fd",
   "metadata": {},
   "source": [
    "## Saving the model"
   ]
  },
  {
   "cell_type": "markdown",
   "id": "b15bee9c",
   "metadata": {},
   "source": [
    "The LSTM network is made up of two components, the architecture and the model weights. We'll save these model components in two files, the architecture in a json file that the keras package can use to rebuild the model, and the weights in an HDF5 heirachy that rebuild the exact model."
   ]
  },
  {
   "cell_type": "code",
   "execution_count": 31,
   "id": "fe3811f7",
   "metadata": {},
   "outputs": [
    {
     "name": "stdout",
     "output_type": "stream",
     "text": [
      "Model saved\n"
     ]
    }
   ],
   "source": [
    "# Save the model for operationalization: https://machinelearningmastery.com/save-load-keras-deep-learning-models/\n",
    "import os\n",
    "import h5py\n",
    "from sklearn import datasets \n",
    " \n",
    "# We'll serialize the model in json format\n",
    "LSTM_MODEL = 'modellstm.json'\n",
    "\n",
    "# and store the weights in h5\n",
    "MODEL_WEIGHTS = 'modellstm.h5'\n",
    "\n",
    "# save model\n",
    "# serialize model to JSON\n",
    "model_json = model.to_json()\n",
    "with open(LSTM_MODEL, \"w\") as json_file:\n",
    "    json_file.write(model_json)\n",
    "# serialize weights to HDF5\n",
    "model.save_weights(MODEL_WEIGHTS)\n",
    "print(\"Model saved\")"
   ]
  },
  {
   "cell_type": "markdown",
   "id": "68cb5c77",
   "metadata": {},
   "source": [
    "To test the save operations, we can reload the model files into a test model loaded_model and rescore the test dataset.\n"
   ]
  },
  {
   "cell_type": "code",
   "execution_count": 32,
   "id": "9ebb545b",
   "metadata": {},
   "outputs": [
    {
     "name": "stdout",
     "output_type": "stream",
     "text": [
      "2.14.0\n",
      "Model loaded\n"
     ]
    }
   ],
   "source": [
    "from keras.models import model_from_json\n",
    "\n",
    "print(keras.__version__)\n",
    "\n",
    "# load json and create model\n",
    "json_file = open(LSTM_MODEL, 'r')\n",
    "loaded_model_json = json_file.read()\n",
    "json_file.close()\n",
    "loaded_model = model_from_json(loaded_model_json)\n",
    "# load weights into new model\n",
    "loaded_model.load_weights(MODEL_WEIGHTS)\n",
    "\n",
    "loaded_model.compile('sgd','mse')\n",
    "print(\"Model loaded\")"
   ]
  },
  {
   "cell_type": "markdown",
   "id": "4f982609",
   "metadata": {},
   "source": [
    "The model constructed from storage can be used to predict the probability of engine failure."
   ]
  },
  {
   "cell_type": "code",
   "execution_count": 34,
   "id": "dad306dd",
   "metadata": {},
   "outputs": [
    {
     "name": "stdout",
     "output_type": "stream",
     "text": [
      "489/489 [==============================] - 14s 25ms/step\n",
      "(15631, 1)\n",
      "[[8.5365798e-05]\n",
      " [8.7691529e-05]\n",
      " [9.0876725e-05]\n",
      " ...\n",
      " [9.9854428e-01]\n",
      " [9.9870712e-01]\n",
      " [9.9883848e-01]]\n"
     ]
    }
   ],
   "source": [
    "score = loaded_model.predict(seq_array,verbose=1)\n",
    "print(score.shape)\n",
    "print(score)"
   ]
  },
  {
   "cell_type": "code",
   "execution_count": null,
   "id": "3a86e900",
   "metadata": {},
   "outputs": [],
   "source": []
  }
 ],
 "metadata": {
  "kernelspec": {
   "display_name": "Python 3 (ipykernel)",
   "language": "python",
   "name": "python3"
  },
  "language_info": {
   "codemirror_mode": {
    "name": "ipython",
    "version": 3
   },
   "file_extension": ".py",
   "mimetype": "text/x-python",
   "name": "python",
   "nbconvert_exporter": "python",
   "pygments_lexer": "ipython3",
   "version": "3.11.4"
  }
 },
 "nbformat": 4,
 "nbformat_minor": 5
}
