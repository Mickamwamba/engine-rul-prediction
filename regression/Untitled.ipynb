{
 "cells": [
  {
   "cell_type": "code",
   "execution_count": null,
   "id": "b5a2f951",
   "metadata": {},
   "outputs": [],
   "source": [
    "window_length = 30 \n",
    "shift = 1 \n",
    "early_url = 125 \n",
    "processed_training_data = []\n",
    "processed_train_targets = []\n",
    "\n",
    "num_test_windows = 5 # We will take the average of the last 5 windows from the test set\n",
    "processed_test_data = []\n",
    "num_test_windows_list = []\n",
    "\n",
    "columns_to_be_dropped = \n"
   ]
  }
 ],
 "metadata": {
  "kernelspec": {
   "display_name": "Python 3 (ipykernel)",
   "language": "python",
   "name": "python3"
  },
  "language_info": {
   "codemirror_mode": {
    "name": "ipython",
    "version": 3
   },
   "file_extension": ".py",
   "mimetype": "text/x-python",
   "name": "python",
   "nbconvert_exporter": "python",
   "pygments_lexer": "ipython3",
   "version": "3.11.4"
  }
 },
 "nbformat": 4,
 "nbformat_minor": 5
}
