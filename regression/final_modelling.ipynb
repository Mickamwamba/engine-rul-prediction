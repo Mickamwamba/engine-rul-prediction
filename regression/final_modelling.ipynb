{
 "cells": [
  {
   "cell_type": "code",
   "execution_count": 97,
   "id": "f51b4935",
   "metadata": {},
   "outputs": [],
   "source": [
    "import matplotlib.pyplot as plt\n",
    "import pandas as pd\n",
    "import numpy as np\n",
    "import warnings \n",
    "import os\n",
    "warnings.filterwarnings('ignore')\n",
    "from sklearn.preprocessing import MinMaxScaler\n",
    "\n",
    "from keras.models import Sequential\n",
    "from sklearn import datasets\n",
    "from keras.layers import Dense, Dropout, LSTM, Activation\n",
    "import tensorflow as tf\n",
    "from tensorflow import keras"
   ]
  },
  {
   "cell_type": "code",
   "execution_count": 2,
   "id": "c9145795",
   "metadata": {},
   "outputs": [],
   "source": [
    "cwd = os.getcwd()\n",
    "#Importing both test and train datasets\n",
    "df_test_FD001 = pd.read_csv(os.path.join(cwd,\"test_FD001.txt\"), sep=' ', header=None)\n",
    "df_train_FD001 = pd.read_csv(os.path.join(cwd,\"train_FD001.txt\"), sep=' ', header=None)\n",
    "\n",
    "truth_df = pd.read_csv(os.path.join(cwd,\"RUL_FD001.txt\"), sep=\" \", header=None)\n",
    "truth_df.drop(truth_df.columns[[1]], axis=1, inplace=True)\n",
    "true_rul = pd.read_csv(os.path.join(cwd,\"RUL_FD001.txt\"), sep=\"\\s+\", header=None)\n",
    "# truth_df.head()\n",
    "\n",
    "# dropping NAN values\n",
    "df_test_FD001 = df_test_FD001.dropna(axis=1, how='all')\n",
    "df_train_FD001 = df_train_FD001.dropna(axis=1, how='all')\n",
    "\n",
    "# Naming the columns\n",
    "column_names = [\"unit\", \"cycles\", \"Op1\",\"Op2\", \"Op3\", \"S1\", \"S2\",\"S3\", \"S4\", \"S5\", \"S6\", \"S7\", \"S8\", \"S9\", \"S10\", \n",
    "                \"S11\",\"S12\", \"S13\", \"S14\", \"S15\", \"S16\", \"S17\", \"S18\", \"S19\", \"S20\", \"S21\"]\n",
    "\n",
    "df_test_FD001.columns = column_names\n",
    "df_train_FD001.columns = column_names\n",
    "\n",
    "# data preprocessing; removing unnecessary data\n",
    "columns_to_delete = ['Op1','Op2','Op3','S1','S5','S6','S10','S16','S18','S19']\n",
    "\n",
    "df_test_FD001.drop(columns_to_delete, axis=1, inplace=True)\n",
    "df_train_FD001.drop(columns_to_delete, axis=1, inplace=True)\n",
    "\n",
    "# test dataset begins with unit 101 to differentiate from the train dataset\n",
    "df_test_FD001['unit'] += 100\n",
    "\n",
    "# Combine the two datasets into a single dataframe\n",
    "df_combined = pd.concat([df_train_FD001, df_test_FD001]) \n",
    "\n",
    "# Perform scalling on the the combined dataset so that their scale is the same\n",
    "scaler = MinMaxScaler(feature_range = (-1,1))\n",
    "df_combined.iloc[:,2:18] = scaler.fit_transform(df_combined.iloc[:,2:18])\n",
    "\n",
    "# Split them again after performing scalling\n",
    "df_train_FD001 = df_combined[(df_combined.unit <= 100)]\n",
    "df_test_FD001 = df_combined[(df_combined.unit >= 101)]\n",
    "\n",
    "# After separation, the first unit of the test dataset is reset to 0 again\n",
    "df_test_FD001['unit'] -= 100"
   ]
  },
  {
   "cell_type": "code",
   "execution_count": null,
   "id": "045c3772",
   "metadata": {},
   "outputs": [],
   "source": []
  },
  {
   "cell_type": "code",
   "execution_count": 3,
   "id": "a1e336b2",
   "metadata": {},
   "outputs": [],
   "source": [
    "# Finding the maximum cycle of an engine unit which is used to find its Remaining Useful Life (RUL)\n",
    "df_train_FD001 = pd.merge(df_train_FD001, df_train_FD001.groupby('unit', as_index=False)['cycles'].max(), how='left', on='unit')\n",
    "df_train_FD001.rename(columns={\"cycles_x\": \"cycles\", \"cycles_y\": \"Final Cycle\"}, inplace=True)\n",
    "df_train_FD001['RUL'] = df_train_FD001['Final Cycle'] - df_train_FD001['cycles']\n",
    "\n",
    "\n",
    "df_test_FD001 = pd.merge(df_test_FD001, df_test_FD001.groupby('unit', as_index=False)['cycles'].max(), how='left', on='unit')\n",
    "df_test_FD001.rename(columns={\"cycles_x\": \"cycles\", \"cycles_y\": \"Final Cycle\"}, inplace=True)\n",
    "\n",
    "\n",
    "# generate column max for test data\n",
    "rul = pd.DataFrame(df_test_FD001.groupby('unit')['cycles'].max()).reset_index()\n",
    "rul.columns = ['unit', 'max']\n",
    "truth_df.columns = ['more']\n",
    "truth_df['unit'] = truth_df.index + 1\n",
    "truth_df['max'] = rul['max'] + truth_df['more']\n",
    "truth_df.drop('more', axis=1, inplace=True)\n",
    "\n",
    "# generate RUL for test data\n",
    "df_test_FD001 = df_test_FD001.merge(truth_df, on=['unit'], how='left')\n",
    "df_test_FD001['RUL'] = df_test_FD001['max'] - df_test_FD001['cycles']\n",
    "df_test_FD001.drop('max', axis=1, inplace=True)\n",
    "# df_test_FD001.head()"
   ]
  },
  {
   "cell_type": "code",
   "execution_count": 5,
   "id": "63ed2272",
   "metadata": {},
   "outputs": [
    {
     "data": {
      "text/plain": [
       "(20631, 18)"
      ]
     },
     "execution_count": 5,
     "metadata": {},
     "output_type": "execute_result"
    }
   ],
   "source": [
    "df_train_FD001.shape"
   ]
  },
  {
   "cell_type": "code",
   "execution_count": 6,
   "id": "fee388bb",
   "metadata": {},
   "outputs": [
    {
     "data": {
      "text/plain": [
       "(13096, 18)"
      ]
     },
     "execution_count": 6,
     "metadata": {},
     "output_type": "execute_result"
    }
   ],
   "source": [
    "df_test_FD001.shape"
   ]
  },
  {
   "cell_type": "code",
   "execution_count": 11,
   "id": "20ab190c",
   "metadata": {},
   "outputs": [],
   "source": [
    "# Defining train values that will be used to train the machine learning model\n",
    "X_train = df_train_FD001[[ 'S2', 'S3', 'S4', 'S7', 'S8', 'S11', 'S12',\n",
    "          'S13', 'S14', 'S15', 'S17', 'S20', 'S21']].values\n",
    "y_train = df_train_FD001[['RUL']].values.ravel()\n",
    "\n",
    "# Defining test values that will be used to perform prediction based on the trained model\n",
    "X_test = df_test_FD001[[ 'S2', 'S3', 'S4', 'S7', 'S8', 'S11', 'S12',\n",
    "          'S13', 'S14', 'S15', 'S17', 'S20', 'S21']].values\n",
    "\n",
    "y_test = df_test_FD001[['RUL']].values.ravel()"
   ]
  },
  {
   "cell_type": "code",
   "execution_count": 20,
   "id": "12561d22",
   "metadata": {},
   "outputs": [
    {
     "data": {
      "text/plain": [
       "13"
      ]
     },
     "execution_count": 20,
     "metadata": {},
     "output_type": "execute_result"
    }
   ],
   "source": [
    "X_train.shape[1]"
   ]
  },
  {
   "cell_type": "code",
   "execution_count": 13,
   "id": "cf931085",
   "metadata": {},
   "outputs": [
    {
     "data": {
      "text/plain": [
       "(13096, 13)"
      ]
     },
     "execution_count": 13,
     "metadata": {},
     "output_type": "execute_result"
    }
   ],
   "source": [
    "X_test.shape"
   ]
  },
  {
   "cell_type": "code",
   "execution_count": 10,
   "id": "99e0b104",
   "metadata": {},
   "outputs": [
    {
     "data": {
      "text/plain": [
       "(20631,)"
      ]
     },
     "execution_count": 10,
     "metadata": {},
     "output_type": "execute_result"
    }
   ],
   "source": [
    "y_train.shape"
   ]
  },
  {
   "cell_type": "code",
   "execution_count": 16,
   "id": "61f56191",
   "metadata": {},
   "outputs": [
    {
     "data": {
      "text/plain": [
       "(13096,)"
      ]
     },
     "execution_count": 16,
     "metadata": {},
     "output_type": "execute_result"
    }
   ],
   "source": [
    "y_test.shape"
   ]
  },
  {
   "cell_type": "code",
   "execution_count": 45,
   "id": "1cee50a4",
   "metadata": {},
   "outputs": [],
   "source": [
    "models = {}"
   ]
  },
  {
   "cell_type": "markdown",
   "id": "d51eac43",
   "metadata": {},
   "source": [
    "##  Linear Regression model"
   ]
  },
  {
   "cell_type": "code",
   "execution_count": 46,
   "id": "1de59c0f",
   "metadata": {},
   "outputs": [],
   "source": [
    "from sklearn.linear_model import LinearRegression\n",
    "lreg_model = LinearRegression()\n",
    "lreg_model.fit(X_train,y_train)\n",
    "models['lr'] = lreg_model"
   ]
  },
  {
   "cell_type": "markdown",
   "id": "19de51fd",
   "metadata": {},
   "source": [
    "## Random Forest Model"
   ]
  },
  {
   "cell_type": "code",
   "execution_count": 47,
   "id": "02d0cb8f",
   "metadata": {},
   "outputs": [],
   "source": [
    "from sklearn.ensemble import RandomForestRegressor\n",
    "forest_reg = RandomForestRegressor()\n",
    "forest_reg.fit(X_train,y_train)\n",
    "models['forest'] = forest_reg"
   ]
  },
  {
   "cell_type": "markdown",
   "id": "58071dcd",
   "metadata": {},
   "source": [
    "## KNN Regressor Model"
   ]
  },
  {
   "cell_type": "code",
   "execution_count": 48,
   "id": "2280f5e6",
   "metadata": {},
   "outputs": [],
   "source": [
    "from sklearn.neighbors import KNeighborsRegressor\n",
    "\n",
    "knr_model = KNeighborsRegressor(n_neighbors=12)\n",
    "knr_model.fit(X_train, y_train)\n",
    "models['knr'] = knr_model"
   ]
  },
  {
   "cell_type": "markdown",
   "id": "0fba77e9",
   "metadata": {},
   "source": [
    "## Neural Network Model"
   ]
  },
  {
   "cell_type": "code",
   "execution_count": 49,
   "id": "8f679f18",
   "metadata": {},
   "outputs": [],
   "source": [
    "from keras.models import Sequential\n",
    "from keras.layers import Dense, Activation\n",
    "# from keras.wrappers.scikit_learn import KerasRegressor\n",
    "\n",
    "# Defining Neural Network model\n",
    "nn_model = Sequential()\n",
    "nn_model.add(Dense(50, input_dim=X_train.shape[1], kernel_initializer='normal', activation='relu'))\n",
    "nn_model.add(Dense(1, activation='relu'))\n",
    "\n",
    "# Compiling model\n",
    "nn_model.compile(loss='mean_squared_error', optimizer='adam')\n",
    "\n",
    "# Training the Neural Network model\n",
    "nn_model.fit(X_train, y_train, epochs = 55, shuffle=True, verbose = 0)\n",
    "models['nn'] = nn_model"
   ]
  },
  {
   "cell_type": "code",
   "execution_count": 61,
   "id": "5b461c3f",
   "metadata": {},
   "outputs": [],
   "source": [
    "from sklearn.metrics import mean_squared_error, mean_absolute_error, r2_score\n",
    "from sklearn.model_selection import cross_val_score\n",
    "\n",
    "def evaluateModel(y_true,y_pred):\n",
    "\n",
    "    # Calculate mean squared error\n",
    "    mse = mean_squared_error(y_true, y_pred)\n",
    "\n",
    "    # Calculate mean absolute error\n",
    "    mae = mean_absolute_error(y_true, y_pred)\n",
    "\n",
    "    # Calculate R-squared\n",
    "    r2 = r2_score(y_true, y_pred)\n",
    "    \n",
    "    # Calculate RMSE\n",
    "    rmse = np.sqrt(mse)\n",
    "    \n",
    "    return (mse,mae,rmse,r2)"
   ]
  },
  {
   "cell_type": "markdown",
   "id": "9c62536b",
   "metadata": {},
   "source": [
    "## Evaluate all models on the training set"
   ]
  },
  {
   "cell_type": "code",
   "execution_count": 69,
   "id": "94809184",
   "metadata": {},
   "outputs": [
    {
     "name": "stdout",
     "output_type": "stream",
     "text": [
      "645/645 [==============================] - 1s 1ms/step\n"
     ]
    }
   ],
   "source": [
    "names =[]\n",
    "mses=[]\n",
    "maes = []\n",
    "rmses = []\n",
    "r2s = []\n",
    "\n",
    "for name,model in models.items():\n",
    "    predictions = model.predict(X_train)\n",
    "    mse,mae,rmse,r2 = evaluateModel(y_train,predictions)\n",
    "    names.append(name.upper())\n",
    "    mses.append(mse)\n",
    "    maes.append(mae)\n",
    "    rmses.append(rmse)\n",
    "    r2s.append(r2)\n",
    "    \n",
    "train_evaluation_results_df = pd.DataFrame({'model name':names,'mse':mses,'mae':maes,'rmse':rmses,'r2':r2s})"
   ]
  },
  {
   "cell_type": "code",
   "execution_count": 70,
   "id": "50eab4fb",
   "metadata": {},
   "outputs": [
    {
     "data": {
      "text/html": [
       "<div>\n",
       "<style scoped>\n",
       "    .dataframe tbody tr th:only-of-type {\n",
       "        vertical-align: middle;\n",
       "    }\n",
       "\n",
       "    .dataframe tbody tr th {\n",
       "        vertical-align: top;\n",
       "    }\n",
       "\n",
       "    .dataframe thead th {\n",
       "        text-align: right;\n",
       "    }\n",
       "</style>\n",
       "<table border=\"1\" class=\"dataframe\">\n",
       "  <thead>\n",
       "    <tr style=\"text-align: right;\">\n",
       "      <th></th>\n",
       "      <th>model name</th>\n",
       "      <th>mse</th>\n",
       "      <th>mae</th>\n",
       "      <th>rmse</th>\n",
       "      <th>r2</th>\n",
       "    </tr>\n",
       "  </thead>\n",
       "  <tbody>\n",
       "    <tr>\n",
       "      <th>1</th>\n",
       "      <td>FOREST</td>\n",
       "      <td>245.633150</td>\n",
       "      <td>11.005064</td>\n",
       "      <td>15.672688</td>\n",
       "      <td>0.948226</td>\n",
       "    </tr>\n",
       "    <tr>\n",
       "      <th>2</th>\n",
       "      <td>KNR</td>\n",
       "      <td>1654.721937</td>\n",
       "      <td>29.206203</td>\n",
       "      <td>40.678274</td>\n",
       "      <td>0.651223</td>\n",
       "    </tr>\n",
       "    <tr>\n",
       "      <th>3</th>\n",
       "      <td>NN</td>\n",
       "      <td>1734.155500</td>\n",
       "      <td>29.840031</td>\n",
       "      <td>41.643193</td>\n",
       "      <td>0.634481</td>\n",
       "    </tr>\n",
       "    <tr>\n",
       "      <th>0</th>\n",
       "      <td>LR</td>\n",
       "      <td>1998.595779</td>\n",
       "      <td>34.139490</td>\n",
       "      <td>44.705657</td>\n",
       "      <td>0.578743</td>\n",
       "    </tr>\n",
       "  </tbody>\n",
       "</table>\n",
       "</div>"
      ],
      "text/plain": [
       "  model name          mse        mae       rmse        r2\n",
       "1     FOREST   245.633150  11.005064  15.672688  0.948226\n",
       "2        KNR  1654.721937  29.206203  40.678274  0.651223\n",
       "3         NN  1734.155500  29.840031  41.643193  0.634481\n",
       "0         LR  1998.595779  34.139490  44.705657  0.578743"
      ]
     },
     "execution_count": 70,
     "metadata": {},
     "output_type": "execute_result"
    }
   ],
   "source": [
    "train_evaluation_results_df.sort_values(by='rmse')"
   ]
  },
  {
   "cell_type": "markdown",
   "id": "84a6e67d",
   "metadata": {},
   "source": [
    "## Evaluate all models on the test set"
   ]
  },
  {
   "cell_type": "code",
   "execution_count": 71,
   "id": "90844431",
   "metadata": {},
   "outputs": [
    {
     "name": "stdout",
     "output_type": "stream",
     "text": [
      "410/410 [==============================] - 1s 2ms/step\n"
     ]
    }
   ],
   "source": [
    "names =[]\n",
    "mses=[]\n",
    "maes = []\n",
    "rmses = []\n",
    "r2s = []\n",
    "\n",
    "for name,model in models.items():\n",
    "    predictions = model.predict(X_test)\n",
    "    mse,mae,rmse,r2 = evaluateModel(y_test,predictions)\n",
    "    names.append(name.upper())\n",
    "    mses.append(mse)\n",
    "    maes.append(mae)\n",
    "    rmses.append(rmse)\n",
    "    r2s.append(r2)\n",
    "    \n",
    "test_evaluation_results_df = pd.DataFrame({'model name':names,'mse':mses,'mae':maes,'rmse':rmses,'r2':r2s})"
   ]
  },
  {
   "cell_type": "code",
   "execution_count": 72,
   "id": "692231b0",
   "metadata": {},
   "outputs": [
    {
     "data": {
      "text/html": [
       "<div>\n",
       "<style scoped>\n",
       "    .dataframe tbody tr th:only-of-type {\n",
       "        vertical-align: middle;\n",
       "    }\n",
       "\n",
       "    .dataframe tbody tr th {\n",
       "        vertical-align: top;\n",
       "    }\n",
       "\n",
       "    .dataframe thead th {\n",
       "        text-align: right;\n",
       "    }\n",
       "</style>\n",
       "<table border=\"1\" class=\"dataframe\">\n",
       "  <thead>\n",
       "    <tr style=\"text-align: right;\">\n",
       "      <th></th>\n",
       "      <th>model name</th>\n",
       "      <th>mse</th>\n",
       "      <th>mae</th>\n",
       "      <th>rmse</th>\n",
       "      <th>r2</th>\n",
       "    </tr>\n",
       "  </thead>\n",
       "  <tbody>\n",
       "    <tr>\n",
       "      <th>3</th>\n",
       "      <td>NN</td>\n",
       "      <td>2113.125093</td>\n",
       "      <td>34.708119</td>\n",
       "      <td>45.968740</td>\n",
       "      <td>0.392499</td>\n",
       "    </tr>\n",
       "    <tr>\n",
       "      <th>1</th>\n",
       "      <td>FOREST</td>\n",
       "      <td>2176.508180</td>\n",
       "      <td>35.320006</td>\n",
       "      <td>46.653062</td>\n",
       "      <td>0.374277</td>\n",
       "    </tr>\n",
       "    <tr>\n",
       "      <th>0</th>\n",
       "      <td>LR</td>\n",
       "      <td>2344.509189</td>\n",
       "      <td>37.187946</td>\n",
       "      <td>48.420132</td>\n",
       "      <td>0.325978</td>\n",
       "    </tr>\n",
       "    <tr>\n",
       "      <th>2</th>\n",
       "      <td>KNR</td>\n",
       "      <td>2401.587208</td>\n",
       "      <td>37.468604</td>\n",
       "      <td>49.005992</td>\n",
       "      <td>0.309569</td>\n",
       "    </tr>\n",
       "  </tbody>\n",
       "</table>\n",
       "</div>"
      ],
      "text/plain": [
       "  model name          mse        mae       rmse        r2\n",
       "3         NN  2113.125093  34.708119  45.968740  0.392499\n",
       "1     FOREST  2176.508180  35.320006  46.653062  0.374277\n",
       "0         LR  2344.509189  37.187946  48.420132  0.325978\n",
       "2        KNR  2401.587208  37.468604  49.005992  0.309569"
      ]
     },
     "execution_count": 72,
     "metadata": {},
     "output_type": "execute_result"
    }
   ],
   "source": [
    "test_evaluation_results_df.sort_values(by='rmse')"
   ]
  },
  {
   "cell_type": "code",
   "execution_count": null,
   "id": "ea332d0e",
   "metadata": {},
   "outputs": [],
   "source": []
  },
  {
   "cell_type": "markdown",
   "id": "6ef6204d",
   "metadata": {},
   "source": [
    "# LSTM"
   ]
  },
  {
   "cell_type": "code",
   "execution_count": 73,
   "id": "8a126d4f",
   "metadata": {},
   "outputs": [],
   "source": [
    "def process_input_data_with_targets(input_data, target_data=None, window_length=1, shift=1):\n",
    "    \"\"\"Depending on values of window_length and shift, this function generates batchs of data and targets \n",
    "    from input_data and target_data.    \n",
    "        Number of batches = np.floor((len(input_data) - window_length)/shift) + 1    \n",
    "    **We don't check input dimensions uisng exception handling. So readers should be careful while using these\n",
    "    functions. If input data are not of desired dimension, either error occurs or something undesirable is \n",
    "    produced as output.**    \n",
    "    Arguments:\n",
    "        input_data: input data to function (Must be 2 dimensional)\n",
    "        target_data: input rul values (Must be 1D array)s\n",
    "        window_length: window length of data\n",
    "        shift: Distance by which the window moves for next batch. This is closely related to overlap\n",
    "               between data. For example, if window length is 30 and shift is 1, there is an overlap of \n",
    "               29 data points between two consecutive batches.        \n",
    "    \"\"\"\n",
    "    num_batches = int(np.floor((len(input_data) - window_length)/shift)) + 1\n",
    "    num_features = input_data.shape[1]\n",
    "    output_data = np.repeat(np.nan, repeats = num_batches * window_length * num_features).reshape(num_batches, window_length,\n",
    "                                                                                                  num_features)\n",
    "    if target_data is None:\n",
    "        for batch in range(num_batches):\n",
    "            output_data[batch,:,:] = input_data[(0+shift*batch):(0+shift*batch+window_length),:]\n",
    "        return output_data\n",
    "    else:\n",
    "        output_targets = np.repeat(np.nan, repeats=num_batches)\n",
    "        for batch in range(num_batches):\n",
    "            output_data[batch,:,:] = input_data[(0+shift*batch):(0+shift*batch+window_length),:]\n",
    "            output_targets[batch] = target_data[(shift*batch + (window_length-1))]\n",
    "        return output_data, output_targets\n",
    "        \n",
    "\n",
    "def process_targets(data_length, early_rul=None):\n",
    "    \"\"\" \n",
    "    Takes datalength and earlyrul as input and \n",
    "    creates target rul.\n",
    "    \"\"\"\n",
    "    if early_rul == None:\n",
    "        return np.arange(data_laaength-1, -1, -1)\n",
    "    else:\n",
    "        early_rul_duration = data_length - early_rul\n",
    "        if early_rul_duration <= 0:\n",
    "            return np.arange(data_length-1, -1, -1)\n",
    "        else:\n",
    "            return np.append(early_rul*np.ones(shape=(early_rul_duration,)), np.arange(early_rul-1, -1, -1))\n",
    "        \n",
    "def process_test_data(test_data_for_an_engine, window_length, shift, num_test_windows=1):\n",
    "    \"\"\" This function takes test data for an engine as first input. The next two inputs\n",
    "    window_length and shift are same as other functins.    \n",
    "    Finally it takes num_test_windows as the last input. num_test_windows sets how many examplles we\n",
    "    want from test data (from last). By default it extracts only the last example.    \n",
    "    The function return last examples and number of last examples (a scaler) as output. \n",
    "    We need the second output later. If we are extracting more than 1 last examples, we have to \n",
    "    average their prediction results. The second scaler halps us do just that.\n",
    "    \"\"\"\n",
    "    max_num_test_batches = int(np.floor((len(test_data_for_an_engine) - window_length)/shift)) + 1\n",
    "    if max_num_test_batches < num_test_windows:\n",
    "        required_len = (max_num_test_batches -1)* shift + window_length\n",
    "        batched_test_data_for_an_engine = process_input_data_with_targets(test_data_for_an_engine               [-required_len:, :], target_data=None, window_length=window_length, shift=shift)\n",
    "        return batched_test_data_for_an_engine, max_num_test_batches\n",
    "    else:\n",
    "        required_len = (num_test_windows - 1) * shift + window_length\n",
    "        batched_test_data_for_an_engine = process_input_data_with_targets(test_data_for_an_engine[-required_len:, :], target_data=None, window_length=window_length, shift=shift)\n",
    "        return batched_test_data_for_an_engine, num_test_windows"
   ]
  },
  {
   "cell_type": "code",
   "execution_count": 91,
   "id": "e8bebe81",
   "metadata": {},
   "outputs": [
    {
     "data": {
      "text/html": [
       "<div>\n",
       "<style scoped>\n",
       "    .dataframe tbody tr th:only-of-type {\n",
       "        vertical-align: middle;\n",
       "    }\n",
       "\n",
       "    .dataframe tbody tr th {\n",
       "        vertical-align: top;\n",
       "    }\n",
       "\n",
       "    .dataframe thead th {\n",
       "        text-align: right;\n",
       "    }\n",
       "</style>\n",
       "<table border=\"1\" class=\"dataframe\">\n",
       "  <thead>\n",
       "    <tr style=\"text-align: right;\">\n",
       "      <th></th>\n",
       "      <th>unit</th>\n",
       "      <th>cycles</th>\n",
       "      <th>S2</th>\n",
       "      <th>S3</th>\n",
       "      <th>S4</th>\n",
       "      <th>S7</th>\n",
       "      <th>S8</th>\n",
       "      <th>S9</th>\n",
       "      <th>S11</th>\n",
       "      <th>S12</th>\n",
       "      <th>S13</th>\n",
       "      <th>S14</th>\n",
       "      <th>S15</th>\n",
       "      <th>S17</th>\n",
       "      <th>S20</th>\n",
       "      <th>S21</th>\n",
       "      <th>Final Cycle</th>\n",
       "      <th>RUL</th>\n",
       "    </tr>\n",
       "  </thead>\n",
       "  <tbody>\n",
       "    <tr>\n",
       "      <th>0</th>\n",
       "      <td>1</td>\n",
       "      <td>1</td>\n",
       "      <td>-0.594118</td>\n",
       "      <td>-0.136829</td>\n",
       "      <td>-0.380486</td>\n",
       "      <td>0.452496</td>\n",
       "      <td>-0.492537</td>\n",
       "      <td>-0.780490</td>\n",
       "      <td>-0.225434</td>\n",
       "      <td>0.171598</td>\n",
       "      <td>-0.588235</td>\n",
       "      <td>-0.600784</td>\n",
       "      <td>-0.272028</td>\n",
       "      <td>-0.333333</td>\n",
       "      <td>0.426357</td>\n",
       "      <td>0.403772</td>\n",
       "      <td>192</td>\n",
       "      <td>191</td>\n",
       "    </tr>\n",
       "    <tr>\n",
       "      <th>1</th>\n",
       "      <td>1</td>\n",
       "      <td>2</td>\n",
       "      <td>-0.400000</td>\n",
       "      <td>-0.048256</td>\n",
       "      <td>-0.294733</td>\n",
       "      <td>0.256039</td>\n",
       "      <td>-0.552239</td>\n",
       "      <td>-0.799515</td>\n",
       "      <td>-0.202312</td>\n",
       "      <td>0.416174</td>\n",
       "      <td>-0.441176</td>\n",
       "      <td>-0.674373</td>\n",
       "      <td>-0.177376</td>\n",
       "      <td>-0.333333</td>\n",
       "      <td>0.333333</td>\n",
       "      <td>0.416076</td>\n",
       "      <td>192</td>\n",
       "      <td>190</td>\n",
       "    </tr>\n",
       "    <tr>\n",
       "      <th>2</th>\n",
       "      <td>1</td>\n",
       "      <td>3</td>\n",
       "      <td>-0.282353</td>\n",
       "      <td>-0.208272</td>\n",
       "      <td>-0.258947</td>\n",
       "      <td>0.420290</td>\n",
       "      <td>-0.432836</td>\n",
       "      <td>-0.719914</td>\n",
       "      <td>-0.456647</td>\n",
       "      <td>0.471400</td>\n",
       "      <td>-0.558824</td>\n",
       "      <td>-0.656414</td>\n",
       "      <td>-0.285110</td>\n",
       "      <td>-0.666667</td>\n",
       "      <td>0.255814</td>\n",
       "      <td>0.203691</td>\n",
       "      <td>192</td>\n",
       "      <td>189</td>\n",
       "    </tr>\n",
       "    <tr>\n",
       "      <th>3</th>\n",
       "      <td>1</td>\n",
       "      <td>4</td>\n",
       "      <td>-0.282353</td>\n",
       "      <td>-0.425527</td>\n",
       "      <td>-0.337610</td>\n",
       "      <td>0.481481</td>\n",
       "      <td>-0.343284</td>\n",
       "      <td>-0.750965</td>\n",
       "      <td>-0.618497</td>\n",
       "      <td>0.644970</td>\n",
       "      <td>-0.411765</td>\n",
       "      <td>-0.650222</td>\n",
       "      <td>-0.666795</td>\n",
       "      <td>-0.333333</td>\n",
       "      <td>0.147287</td>\n",
       "      <td>0.283135</td>\n",
       "      <td>192</td>\n",
       "      <td>188</td>\n",
       "    </tr>\n",
       "    <tr>\n",
       "      <th>4</th>\n",
       "      <td>1</td>\n",
       "      <td>5</td>\n",
       "      <td>-0.270588</td>\n",
       "      <td>-0.423021</td>\n",
       "      <td>-0.190749</td>\n",
       "      <td>0.336554</td>\n",
       "      <td>-0.492537</td>\n",
       "      <td>-0.700081</td>\n",
       "      <td>-0.445087</td>\n",
       "      <td>0.380671</td>\n",
       "      <td>-0.529412</td>\n",
       "      <td>-0.650532</td>\n",
       "      <td>-0.195845</td>\n",
       "      <td>-0.166667</td>\n",
       "      <td>0.178295</td>\n",
       "      <td>0.364718</td>\n",
       "      <td>192</td>\n",
       "      <td>187</td>\n",
       "    </tr>\n",
       "  </tbody>\n",
       "</table>\n",
       "</div>"
      ],
      "text/plain": [
       "   unit  cycles        S2        S3        S4        S7        S8        S9  \\\n",
       "0     1       1 -0.594118 -0.136829 -0.380486  0.452496 -0.492537 -0.780490   \n",
       "1     1       2 -0.400000 -0.048256 -0.294733  0.256039 -0.552239 -0.799515   \n",
       "2     1       3 -0.282353 -0.208272 -0.258947  0.420290 -0.432836 -0.719914   \n",
       "3     1       4 -0.282353 -0.425527 -0.337610  0.481481 -0.343284 -0.750965   \n",
       "4     1       5 -0.270588 -0.423021 -0.190749  0.336554 -0.492537 -0.700081   \n",
       "\n",
       "        S11       S12       S13       S14       S15       S17       S20  \\\n",
       "0 -0.225434  0.171598 -0.588235 -0.600784 -0.272028 -0.333333  0.426357   \n",
       "1 -0.202312  0.416174 -0.441176 -0.674373 -0.177376 -0.333333  0.333333   \n",
       "2 -0.456647  0.471400 -0.558824 -0.656414 -0.285110 -0.666667  0.255814   \n",
       "3 -0.618497  0.644970 -0.411765 -0.650222 -0.666795 -0.333333  0.147287   \n",
       "4 -0.445087  0.380671 -0.529412 -0.650532 -0.195845 -0.166667  0.178295   \n",
       "\n",
       "        S21  Final Cycle  RUL  \n",
       "0  0.403772          192  191  \n",
       "1  0.416076          192  190  \n",
       "2  0.203691          192  189  \n",
       "3  0.283135          192  188  \n",
       "4  0.364718          192  187  "
      ]
     },
     "execution_count": 91,
     "metadata": {},
     "output_type": "execute_result"
    }
   ],
   "source": [
    "train_data = df_train_FD001\n",
    "test_data = df_test_FD001\n",
    "\n",
    "train_feats = df_train_FD001[[ 'S2', 'S3', 'S4', 'S7', 'S8', 'S11', 'S12',\n",
    "          'S13', 'S14', 'S15', 'S17', 'S20', 'S21']]\n",
    "\n",
    "test_feats = df_test_FD001[[ 'S2', 'S3', 'S4', 'S7', 'S8', 'S11', 'S12',\n",
    "          'S13', 'S14', 'S15', 'S17', 'S20', 'S21']]\n",
    "train_data.head()"
   ]
  },
  {
   "cell_type": "code",
   "execution_count": 92,
   "id": "c15f0357",
   "metadata": {},
   "outputs": [
    {
     "name": "stdout",
     "output_type": "stream",
     "text": [
      "Processed trianing data shape:  (17731, 30, 13)\n",
      "Processed training ruls shape:  (17731,)\n",
      "Processed test data shape:  (497, 30, 13)\n",
      "True RUL shape:  (100,)\n"
     ]
    }
   ],
   "source": [
    "window_length = 30\n",
    "shift = 1\n",
    "early_rul = 125            \n",
    "processed_train_data = []\n",
    "processed_train_targets = []\n",
    "# How many test windows to take for each engine. If set to 1 (this is the default), only last window of test data for \n",
    "# each engine is taken. If set to a different number, that many windows from last are taken. \n",
    "# Final output is the average output of all windows.\n",
    "\n",
    "num_test_windows = 5     \n",
    "processed_test_data = []\n",
    "num_test_windows_list = []\n",
    "\n",
    "train_data_first_column = train_data['unit']\n",
    "test_data_first_column = test_data['unit']\n",
    "\n",
    "train_data = pd.DataFrame(data = np.c_[train_data_first_column, train_feats])\n",
    "test_data = pd.DataFrame(data = np.c_[test_data_first_column, test_feats])\n",
    "\n",
    "# train_data\n",
    "\n",
    "num_train_machines = len(train_data[0].unique())\n",
    "num_test_machines = len(test_data[0].unique())\n",
    "\n",
    "# Process training and test data sepeartely as number of engines in training and test set may be different.\n",
    "# As we are doing scaling for full dataset, we are not bothered by different number of engines in training and test set.\n",
    "# Process trianing data\n",
    "\n",
    "for i in np.arange(1, num_train_machines + 1):\n",
    "    temp_train_data = train_data[train_data[0] == i].drop(columns = [0]).values    \n",
    "    # Verify if data of given window length can be extracted from training data\n",
    "    if (len(temp_train_data) < window_length):\n",
    "        print(\"Train engine {} doesn't have enough data for window_length of {}\".format(i, window_length))\n",
    "        raise AssertionError(\"Window length is larger than number of data points for some engines. \"\n",
    "                             \"Try decreasing window length.\")        \n",
    "        \n",
    "    temp_train_targets = process_targets(data_length = temp_train_data.shape[0], early_rul = early_rul)\n",
    "    data_for_a_machine, targets_for_a_machine = process_input_data_with_targets(temp_train_data, temp_train_targets, \n",
    "                                                                                window_length=window_length, shift=shift)    \n",
    "    processed_train_data.append(data_for_a_machine)\n",
    "    processed_train_targets.append(targets_for_a_machine)\n",
    "processed_train_data = np.concatenate(processed_train_data)\n",
    "processed_train_targets = np.concatenate(processed_train_targets)\n",
    "\n",
    "# Process test data\n",
    "for i in np.arange(1, num_test_machines + 1):\n",
    "    temp_test_data = test_data[test_data[0] == i].drop(columns = [0]).values    \n",
    "    # Verify if data of given window length can be extracted from test data\n",
    "    if (len(temp_test_data) < window_length):\n",
    "        print(\"Test engine {} doesn't have enough data for window_length of {}\".format(i, window_length))\n",
    "        raise AssertionError(\"Window length is larger than number of data points for some engines. \"\n",
    "                             \"Try decreasing window length.\")    \n",
    "    # Prepare test data\n",
    "    test_data_for_an_engine, num_windows = process_test_data(temp_test_data, window_length=window_length, shift=shift,\n",
    "                                                             num_test_windows=num_test_windows)    \n",
    "    processed_test_data.append(test_data_for_an_engine)\n",
    "    num_test_windows_list.append(num_windows)\n",
    "processed_test_data = np.concatenate(processed_test_data)\n",
    "true_rul = true_rul[0].values\n",
    "# Shuffle training data\n",
    "index = np.random.permutation(len(processed_train_targets))\n",
    "processed_train_data, processed_train_targets = processed_train_data[index], processed_train_targets[index]\n",
    "print(\"Processed trianing data shape: \", processed_train_data.shape)\n",
    "print(\"Processed training ruls shape: \", processed_train_targets.shape)\n",
    "print(\"Processed test data shape: \", processed_test_data.shape)\n",
    "print(\"True RUL shape: \", true_rul.shape)"
   ]
  },
  {
   "cell_type": "code",
   "execution_count": 102,
   "id": "b90d1aa3",
   "metadata": {},
   "outputs": [],
   "source": [
    "def create_compiled_model():\n",
    "    model = Sequential([\n",
    "        LSTM(128, input_shape = (window_length, 13), return_sequences=True, activation=\"tanh\"),\n",
    "        LSTM(64, activation=\"tanh\", return_sequences = True),\n",
    "        LSTM(32, activation=\"tanh\"),\n",
    "        Dense(96, activation=\"relu\"),\n",
    "        Dense(128, activation=\"relu\"),\n",
    "        Dense(1)\n",
    "    ])\n",
    "    model.compile(loss = \"mse\", optimizer = keras.optimizers.Adam(learning_rate=0.001))\n",
    "    return model"
   ]
  },
  {
   "cell_type": "code",
   "execution_count": 103,
   "id": "1aa256b8",
   "metadata": {},
   "outputs": [],
   "source": [
    "#use a learning rate scheduler that will decrease the learning rate after 5 epochs\n",
    "def scheduler(epoch):\n",
    "    if epoch < 5:\n",
    "        return 0.001\n",
    "    else:\n",
    "        return 0.0001"
   ]
  },
  {
   "cell_type": "code",
   "execution_count": 104,
   "id": "a08d0fd2",
   "metadata": {},
   "outputs": [
    {
     "name": "stdout",
     "output_type": "stream",
     "text": [
      "\n",
      "Epoch 1: LearningRateScheduler setting learning rate to 0.001.\n",
      "Epoch 1/10\n",
      "125/125 - 22s - loss: 3465.1768 - val_loss: 1762.8969 - lr: 0.0010 - 22s/epoch - 180ms/step\n",
      "\n",
      "Epoch 2: LearningRateScheduler setting learning rate to 0.001.\n",
      "Epoch 2/10\n",
      "125/125 - 15s - loss: 1747.1681 - val_loss: 1763.3562 - lr: 0.0010 - 15s/epoch - 119ms/step\n",
      "\n",
      "Epoch 3: LearningRateScheduler setting learning rate to 0.001.\n",
      "Epoch 3/10\n",
      "125/125 - 15s - loss: 1746.7963 - val_loss: 1764.6899 - lr: 0.0010 - 15s/epoch - 120ms/step\n",
      "\n",
      "Epoch 4: LearningRateScheduler setting learning rate to 0.001.\n",
      "Epoch 4/10\n",
      "125/125 - 16s - loss: 1719.8203 - val_loss: 1354.4473 - lr: 0.0010 - 16s/epoch - 125ms/step\n",
      "\n",
      "Epoch 5: LearningRateScheduler setting learning rate to 0.001.\n",
      "Epoch 5/10\n",
      "125/125 - 15s - loss: 394.2481 - val_loss: 224.6621 - lr: 0.0010 - 15s/epoch - 124ms/step\n",
      "\n",
      "Epoch 6: LearningRateScheduler setting learning rate to 0.0001.\n",
      "Epoch 6/10\n",
      "125/125 - 15s - loss: 198.2095 - val_loss: 187.4659 - lr: 1.0000e-04 - 15s/epoch - 121ms/step\n",
      "\n",
      "Epoch 7: LearningRateScheduler setting learning rate to 0.0001.\n",
      "Epoch 7/10\n",
      "125/125 - 15s - loss: 191.3832 - val_loss: 182.4985 - lr: 1.0000e-04 - 15s/epoch - 120ms/step\n",
      "\n",
      "Epoch 8: LearningRateScheduler setting learning rate to 0.0001.\n",
      "Epoch 8/10\n",
      "125/125 - 15s - loss: 187.8115 - val_loss: 182.7491 - lr: 1.0000e-04 - 15s/epoch - 122ms/step\n",
      "\n",
      "Epoch 9: LearningRateScheduler setting learning rate to 0.0001.\n",
      "Epoch 9/10\n",
      "125/125 - 15s - loss: 185.2825 - val_loss: 179.6227 - lr: 1.0000e-04 - 15s/epoch - 120ms/step\n",
      "\n",
      "Epoch 10: LearningRateScheduler setting learning rate to 0.0001.\n",
      "Epoch 10/10\n",
      "125/125 - 15s - loss: 183.5211 - val_loss: 179.0954 - lr: 1.0000e-04 - 15s/epoch - 122ms/step\n"
     ]
    }
   ],
   "source": [
    "callback = keras.callbacks.LearningRateScheduler(scheduler, verbose=1)\n",
    "model = create_compiled_model()\n",
    "history = model.fit(processed_train_data, processed_train_targets, epochs=10,\n",
    "                    validation_split=0.10,\n",
    "                    callbacks=callback, batch_size=128, verbose=2)"
   ]
  },
  {
   "cell_type": "code",
   "execution_count": 105,
   "id": "cc423d3d",
   "metadata": {},
   "outputs": [
    {
     "data": {
      "image/png": "[encoded data removed]",
      "text/plain": [
       "<Figure size 640x480 with 1 Axes>"
      ]
     },
     "metadata": {},
     "output_type": "display_data"
    }
   ],
   "source": [
    "plt.plot(history.history['loss'])\n",
    "plt.plot(history.history['val_loss'])\n",
    "plt.title('MSE')\n",
    "plt.ylabel('Mean Squared Error')\n",
    "plt.xlabel('# Epoch')\n",
    "plt.legend(['train', 'Validation'], loc='upper left')\n",
    "plt.show()"
   ]
  },
  {
   "cell_type": "markdown",
   "id": "d185a274",
   "metadata": {},
   "source": [
    "## Evaluate LSTM on training set"
   ]
  },
  {
   "cell_type": "code",
   "execution_count": 106,
   "id": "3f80d80f",
   "metadata": {},
   "outputs": [
    {
     "name": "stdout",
     "output_type": "stream",
     "text": [
      "89/89 [==============================] - 7s 78ms/step - loss: 181.2608\n",
      "MSE: 181.26080322265625\n"
     ]
    }
   ],
   "source": [
    "scores = model.evaluate(processed_train_data, processed_train_targets, verbose=1, batch_size=200)\n",
    "print('MSE: {}'.format(scores))"
   ]
  },
  {
   "cell_type": "code",
   "execution_count": 129,
   "id": "c5259d65",
   "metadata": {},
   "outputs": [
    {
     "name": "stdout",
     "output_type": "stream",
     "text": [
      "555/555 [==============================] - 12s 21ms/step\n"
     ]
    }
   ],
   "source": [
    "y_pred = model.predict(processed_train_data)\n",
    "y_true = processed_train_targets\n",
    "\n",
    "mse,mae,rmse,r2 = evaluateModel(y_true,y_pred)"
   ]
  },
  {
   "cell_type": "code",
   "execution_count": 138,
   "id": "82e13934",
   "metadata": {},
   "outputs": [
    {
     "data": {
      "text/html": [
       "<div>\n",
       "<style scoped>\n",
       "    .dataframe tbody tr th:only-of-type {\n",
       "        vertical-align: middle;\n",
       "    }\n",
       "\n",
       "    .dataframe tbody tr th {\n",
       "        vertical-align: top;\n",
       "    }\n",
       "\n",
       "    .dataframe thead th {\n",
       "        text-align: right;\n",
       "    }\n",
       "</style>\n",
       "<table border=\"1\" class=\"dataframe\">\n",
       "  <thead>\n",
       "    <tr style=\"text-align: right;\">\n",
       "      <th></th>\n",
       "      <th>model name</th>\n",
       "      <th>mse</th>\n",
       "      <th>mae</th>\n",
       "      <th>rmse</th>\n",
       "      <th>r2</th>\n",
       "    </tr>\n",
       "  </thead>\n",
       "  <tbody>\n",
       "    <tr>\n",
       "      <th>4</th>\n",
       "      <td>LSTM</td>\n",
       "      <td>181.260801</td>\n",
       "      <td>9.757440</td>\n",
       "      <td>13.463313</td>\n",
       "      <td>0.896259</td>\n",
       "    </tr>\n",
       "    <tr>\n",
       "      <th>5</th>\n",
       "      <td>LSTM</td>\n",
       "      <td>181.260801</td>\n",
       "      <td>9.757440</td>\n",
       "      <td>13.463313</td>\n",
       "      <td>0.896259</td>\n",
       "    </tr>\n",
       "    <tr>\n",
       "      <th>1</th>\n",
       "      <td>FOREST</td>\n",
       "      <td>245.633150</td>\n",
       "      <td>11.005064</td>\n",
       "      <td>15.672688</td>\n",
       "      <td>0.948226</td>\n",
       "    </tr>\n",
       "    <tr>\n",
       "      <th>2</th>\n",
       "      <td>KNR</td>\n",
       "      <td>1654.721937</td>\n",
       "      <td>29.206203</td>\n",
       "      <td>40.678274</td>\n",
       "      <td>0.651223</td>\n",
       "    </tr>\n",
       "    <tr>\n",
       "      <th>3</th>\n",
       "      <td>NN</td>\n",
       "      <td>1734.155500</td>\n",
       "      <td>29.840031</td>\n",
       "      <td>41.643193</td>\n",
       "      <td>0.634481</td>\n",
       "    </tr>\n",
       "    <tr>\n",
       "      <th>0</th>\n",
       "      <td>LR</td>\n",
       "      <td>1998.595779</td>\n",
       "      <td>34.139490</td>\n",
       "      <td>44.705657</td>\n",
       "      <td>0.578743</td>\n",
       "    </tr>\n",
       "  </tbody>\n",
       "</table>\n",
       "</div>"
      ],
      "text/plain": [
       "  model name          mse        mae       rmse        r2\n",
       "4       LSTM   181.260801   9.757440  13.463313  0.896259\n",
       "5       LSTM   181.260801   9.757440  13.463313  0.896259\n",
       "1     FOREST   245.633150  11.005064  15.672688  0.948226\n",
       "2        KNR  1654.721937  29.206203  40.678274  0.651223\n",
       "3         NN  1734.155500  29.840031  41.643193  0.634481\n",
       "0         LR  1998.595779  34.139490  44.705657  0.578743"
      ]
     },
     "execution_count": 138,
     "metadata": {},
     "output_type": "execute_result"
    }
   ],
   "source": [
    "# New row as a dictionary\n",
    "new_row = {'model name': 'LSTM', 'mse': mse, 'mae': mae, 'rmse': rmse, 'r2': r2}\n",
    "# Concatenate the new row with the existing DataFrame\n",
    "train_evaluation_results_df = pd.concat([train_evaluation_results_df, pd.DataFrame([new_row])], ignore_index=True)\n",
    "train_evaluation_results_df.sort_values(by='rmse')"
   ]
  },
  {
   "cell_type": "markdown",
   "id": "c83fed9a",
   "metadata": {},
   "source": [
    "## Evaluate LSTM on test set"
   ]
  },
  {
   "cell_type": "code",
   "execution_count": 156,
   "id": "ace49a73",
   "metadata": {},
   "outputs": [
    {
     "name": "stdout",
     "output_type": "stream",
     "text": [
      "16/16 [==============================] - 0s 20ms/step\n"
     ]
    }
   ],
   "source": [
    "rul_pred = model.predict(processed_test_data).reshape(-1)\n",
    "preds_for_each_engine = np.split(rul_pred, np.cumsum(num_test_windows_list)[:-1])\n",
    "\n",
    "mean_pred_for_each_engine = [np.average(ruls_for_each_engine, weights = np.repeat(1/num_windows, num_windows)) \n",
    "                             for ruls_for_each_engine, num_windows in zip(preds_for_each_engine, num_test_windows_list)]"
   ]
  },
  {
   "cell_type": "code",
   "execution_count": 158,
   "id": "bb148298",
   "metadata": {},
   "outputs": [
    {
     "data": {
      "text/html": [
       "<div>\n",
       "<style scoped>\n",
       "    .dataframe tbody tr th:only-of-type {\n",
       "        vertical-align: middle;\n",
       "    }\n",
       "\n",
       "    .dataframe tbody tr th {\n",
       "        vertical-align: top;\n",
       "    }\n",
       "\n",
       "    .dataframe thead th {\n",
       "        text-align: right;\n",
       "    }\n",
       "</style>\n",
       "<table border=\"1\" class=\"dataframe\">\n",
       "  <thead>\n",
       "    <tr style=\"text-align: right;\">\n",
       "      <th></th>\n",
       "      <th>model name</th>\n",
       "      <th>mse</th>\n",
       "      <th>mae</th>\n",
       "      <th>rmse</th>\n",
       "      <th>r2</th>\n",
       "    </tr>\n",
       "  </thead>\n",
       "  <tbody>\n",
       "    <tr>\n",
       "      <th>4</th>\n",
       "      <td>LSTM</td>\n",
       "      <td>240.573697</td>\n",
       "      <td>11.703197</td>\n",
       "      <td>15.510438</td>\n",
       "      <td>0.860688</td>\n",
       "    </tr>\n",
       "    <tr>\n",
       "      <th>3</th>\n",
       "      <td>NN</td>\n",
       "      <td>2113.125093</td>\n",
       "      <td>34.708119</td>\n",
       "      <td>45.968740</td>\n",
       "      <td>0.392499</td>\n",
       "    </tr>\n",
       "    <tr>\n",
       "      <th>1</th>\n",
       "      <td>FOREST</td>\n",
       "      <td>2176.508180</td>\n",
       "      <td>35.320006</td>\n",
       "      <td>46.653062</td>\n",
       "      <td>0.374277</td>\n",
       "    </tr>\n",
       "    <tr>\n",
       "      <th>0</th>\n",
       "      <td>LR</td>\n",
       "      <td>2344.509189</td>\n",
       "      <td>37.187946</td>\n",
       "      <td>48.420132</td>\n",
       "      <td>0.325978</td>\n",
       "    </tr>\n",
       "    <tr>\n",
       "      <th>2</th>\n",
       "      <td>KNR</td>\n",
       "      <td>2401.587208</td>\n",
       "      <td>37.468604</td>\n",
       "      <td>49.005992</td>\n",
       "      <td>0.309569</td>\n",
       "    </tr>\n",
       "  </tbody>\n",
       "</table>\n",
       "</div>"
      ],
      "text/plain": [
       "  model name          mse        mae       rmse        r2\n",
       "4       LSTM   240.573697  11.703197  15.510438  0.860688\n",
       "3         NN  2113.125093  34.708119  45.968740  0.392499\n",
       "1     FOREST  2176.508180  35.320006  46.653062  0.374277\n",
       "0         LR  2344.509189  37.187946  48.420132  0.325978\n",
       "2        KNR  2401.587208  37.468604  49.005992  0.309569"
      ]
     },
     "execution_count": 158,
     "metadata": {},
     "output_type": "execute_result"
    }
   ],
   "source": [
    "y_pred_test = mean_pred_for_each_engine\n",
    "y_true_test = true_rul\n",
    "\n",
    "mse,mae,rmse,r2 = evaluateModel(y_true_test,y_pred_test)\n",
    "# New row as a dictionary\n",
    "new_row = {'model name': 'LSTM', 'mse': mse, 'mae': mae, 'rmse': rmse, 'r2': r2}\n",
    "# Concatenate the new row with the existing DataFrame\n",
    "test_evaluation_results_df = pd.concat([test_evaluation_results_df, pd.DataFrame([new_row])], ignore_index=True)\n",
    "test_evaluation_results_df.sort_values(by='rmse')"
   ]
  },
  {
   "cell_type": "code",
   "execution_count": null,
   "id": "98fa90ab",
   "metadata": {},
   "outputs": [],
   "source": []
  },
  {
   "cell_type": "code",
   "execution_count": 159,
   "id": "69e8c4dd",
   "metadata": {},
   "outputs": [],
   "source": [
    "# #We will now compute the RMSE by taking only last example of each engine.\n",
    "# indices_of_last_examples = np.cumsum(num_test_windows_list) - 1\n",
    "# preds_for_last_example = np.concatenate(preds_for_each_engine)[indices_of_last_examples]\n",
    "# RMSE_new = np.sqrt(mean_squared_error(true_rul, preds_for_last_example))\n",
    "# print(\"RMSE (Taking only last examples): \", RMSE_new)"
   ]
  },
  {
   "cell_type": "code",
   "execution_count": 160,
   "id": "e90b4331",
   "metadata": {},
   "outputs": [
    {
     "data": {
      "image/png": "[encoded data removed]",
      "text/plain": [
       "<Figure size 1000x500 with 1 Axes>"
      ]
     },
     "metadata": {},
     "output_type": "display_data"
    }
   ],
   "source": [
    "plt.figure(figsize=(10,5))\n",
    "plt.plot(mean_pred_for_each_engine, color='red', label='Prediction')\n",
    "plt.plot(true_rul, color='blue', label='Ground Truth')\n",
    "plt.ylabel(\"RUL\")\n",
    "plt.xlabel(\"Unit Number\")\n",
    "plt.legend(loc='upper left')\n",
    "plt.show()"
   ]
  },
  {
   "cell_type": "markdown",
   "id": "fb6dc001",
   "metadata": {},
   "source": [
    "### Sample Predictions"
   ]
  },
  {
   "cell_type": "code",
   "execution_count": 162,
   "id": "4ba38ed8",
   "metadata": {},
   "outputs": [
    {
     "data": {
      "text/html": [
       "<div>\n",
       "<style scoped>\n",
       "    .dataframe tbody tr th:only-of-type {\n",
       "        vertical-align: middle;\n",
       "    }\n",
       "\n",
       "    .dataframe tbody tr th {\n",
       "        vertical-align: top;\n",
       "    }\n",
       "\n",
       "    .dataframe thead th {\n",
       "        text-align: right;\n",
       "    }\n",
       "</style>\n",
       "<table border=\"1\" class=\"dataframe\">\n",
       "  <thead>\n",
       "    <tr style=\"text-align: right;\">\n",
       "      <th></th>\n",
       "      <th>Actual</th>\n",
       "      <th>Predictions</th>\n",
       "    </tr>\n",
       "  </thead>\n",
       "  <tbody>\n",
       "    <tr>\n",
       "      <th>0</th>\n",
       "      <td>112</td>\n",
       "      <td>117.928139</td>\n",
       "    </tr>\n",
       "    <tr>\n",
       "      <th>1</th>\n",
       "      <td>98</td>\n",
       "      <td>116.616037</td>\n",
       "    </tr>\n",
       "    <tr>\n",
       "      <th>2</th>\n",
       "      <td>69</td>\n",
       "      <td>55.094066</td>\n",
       "    </tr>\n",
       "    <tr>\n",
       "      <th>3</th>\n",
       "      <td>82</td>\n",
       "      <td>88.015965</td>\n",
       "    </tr>\n",
       "    <tr>\n",
       "      <th>4</th>\n",
       "      <td>91</td>\n",
       "      <td>91.728679</td>\n",
       "    </tr>\n",
       "    <tr>\n",
       "      <th>...</th>\n",
       "      <td>...</td>\n",
       "      <td>...</td>\n",
       "    </tr>\n",
       "    <tr>\n",
       "      <th>95</th>\n",
       "      <td>137</td>\n",
       "      <td>112.475662</td>\n",
       "    </tr>\n",
       "    <tr>\n",
       "      <th>96</th>\n",
       "      <td>82</td>\n",
       "      <td>105.306328</td>\n",
       "    </tr>\n",
       "    <tr>\n",
       "      <th>97</th>\n",
       "      <td>59</td>\n",
       "      <td>66.495193</td>\n",
       "    </tr>\n",
       "    <tr>\n",
       "      <th>98</th>\n",
       "      <td>117</td>\n",
       "      <td>120.863188</td>\n",
       "    </tr>\n",
       "    <tr>\n",
       "      <th>99</th>\n",
       "      <td>20</td>\n",
       "      <td>19.389413</td>\n",
       "    </tr>\n",
       "  </tbody>\n",
       "</table>\n",
       "<p>100 rows × 2 columns</p>\n",
       "</div>"
      ],
      "text/plain": [
       "    Actual  Predictions\n",
       "0      112   117.928139\n",
       "1       98   116.616037\n",
       "2       69    55.094066\n",
       "3       82    88.015965\n",
       "4       91    91.728679\n",
       "..     ...          ...\n",
       "95     137   112.475662\n",
       "96      82   105.306328\n",
       "97      59    66.495193\n",
       "98     117   120.863188\n",
       "99      20    19.389413\n",
       "\n",
       "[100 rows x 2 columns]"
      ]
     },
     "execution_count": 162,
     "metadata": {},
     "output_type": "execute_result"
    }
   ],
   "source": [
    "df = pd.DataFrame({'Actual':true_rul,'Predictions':mean_pred_for_each_engine})\n",
    "df"
   ]
  },
  {
   "cell_type": "code",
   "execution_count": null,
   "id": "57a4cf4f",
   "metadata": {},
   "outputs": [],
   "source": []
  }
 ],
 "metadata": {
  "kernelspec": {
   "display_name": "Python 3 (ipykernel)",
   "language": "python",
   "name": "python3"
  },
  "language_info": {
   "codemirror_mode": {
    "name": "ipython",
    "version": 3
   },
   "file_extension": ".py",
   "mimetype": "text/x-python",
   "name": "python",
   "nbconvert_exporter": "python",
   "pygments_lexer": "ipython3",
   "version": "3.11.4"
  }
 },
 "nbformat": 4,
 "nbformat_minor": 5
}
